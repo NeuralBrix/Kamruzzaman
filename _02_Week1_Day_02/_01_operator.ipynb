{
 "cells": [
  {
   "cell_type": "markdown",
   "id": "8d976ba2",
   "metadata": {},
   "source": [
    "### Topic: Python Operator"
   ]
  },
  {
   "cell_type": "markdown",
   "id": "46e549a4",
   "metadata": {},
   "source": [
    "##### - Represent any action between operand"
   ]
  },
  {
   "cell_type": "markdown",
   "id": "3fb04e2b",
   "metadata": {},
   "source": [
    "### Comparison Operators\n",
    "- Comparison operators are used to compare two values.\n",
    "- Provide a boolean value."
   ]
  },
  {
   "cell_type": "code",
   "execution_count": 1,
   "id": "ebb34416",
   "metadata": {},
   "outputs": [
    {
     "name": "stdout",
     "output_type": "stream",
     "text": [
      "True\n",
      "False\n",
      "False\n",
      "True\n",
      "True\n",
      "True\n"
     ]
    }
   ],
   "source": [
    "# Example of Comparison Operator\n",
    "\n",
    "age = 24\n",
    "\n",
    "print(age == 24)  # True\n",
    "\n",
    "print(age != 24)  # False\n",
    "\n",
    "print(age < 18)   # False\n",
    "\n",
    "print(age > 20)   # True\n",
    "\n",
    "print(age <= 30)  # True\n",
    "\n",
    "print(age >= 24)  # True\n"
   ]
  },
  {
   "cell_type": "markdown",
   "id": "12238dee",
   "metadata": {},
   "source": [
    "### Logical Operator"
   ]
  },
  {
   "cell_type": "markdown",
   "id": "4a5ab931",
   "metadata": {},
   "source": [
    "- Logical operator used in conditions.\n",
    "- Return a Boolean value(True, False).\n",
    "\n",
    "- Types of logical operator\n",
    "   - and\n",
    "   - or\n",
    "   - not"
   ]
  },
  {
   "cell_type": "code",
   "execution_count": 3,
   "id": "6cce09d1",
   "metadata": {},
   "outputs": [
    {
     "name": "stdout",
     "output_type": "stream",
     "text": [
      "False\n",
      "True\n",
      "True\n",
      "False\n"
     ]
    }
   ],
   "source": [
    "# Example of and Logical Operator\n",
    "kz_age = 24\n",
    "ra_age = 18\n",
    "\n",
    "print(kz_age > 20 and ra_age < 18)  # False (Because and requires both conditions to be True).\n",
    "\n",
    "print(kz_age < 25 and ra_age >= 18) # True\n",
    "\n",
    "print(kz_age == 24 and ra_age == 18) # True\n",
    "\n",
    "print(kz_age != 24 and ra_age == 18) # False"
   ]
  },
  {
   "cell_type": "code",
   "execution_count": 6,
   "id": "14006291",
   "metadata": {},
   "outputs": [
    {
     "name": "stdout",
     "output_type": "stream",
     "text": [
      "True\n",
      "True\n",
      "False\n",
      "True\n"
     ]
    }
   ],
   "source": [
    "# Example of 'or' Logical Operator\n",
    "\n",
    "print(kz_age > 20 or ra_age < 18)  # True (Because or requires at least one condition to be True).\n",
    "\n",
    "print(kz_age < 25 or ra_age >= 18) # True\n",
    "\n",
    "print(kz_age <= 20 or ra_age > 18) # False\n",
    "\n",
    "print(kz_age != 24 or ra_age == 18) # True"
   ]
  },
  {
   "cell_type": "code",
   "execution_count": null,
   "id": "47c0440a",
   "metadata": {},
   "outputs": [
    {
     "name": "stdout",
     "output_type": "stream",
     "text": [
      "False\n",
      "True\n",
      "False\n",
      "True\n"
     ]
    }
   ],
   "source": [
    "# Example of not oprator\n",
    "# - inverse the result\n",
    "print(not (kz_age > 20))  # False\n",
    "\n",
    "print(not (ra_age < 18))  # True\n",
    "\n",
    "print(not (kz_age == 24))  # False\n",
    "\n",
    "print(not (ra_age != 18))  # True"
   ]
  },
  {
   "cell_type": "markdown",
   "id": "23efa9be",
   "metadata": {},
   "source": [
    "### Identity Operator\n",
    "- when two variable is allocated the same memory then we use Identity operator.\n",
    "\n",
    "- Python Store Data in memory to optimize way.\n",
    "\n",
    "- Return Boolean value (True or False)."
   ]
  },
  {
   "cell_type": "markdown",
   "id": "3c78e297",
   "metadata": {},
   "source": [
    "#### Types of Identity Oprator \n",
    "- is\n",
    "- is not"
   ]
  },
  {
   "cell_type": "code",
   "execution_count": 8,
   "id": "61edab50",
   "metadata": {},
   "outputs": [
    {
     "name": "stdout",
     "output_type": "stream",
     "text": [
      "True\n",
      "False\n"
     ]
    }
   ],
   "source": [
    "# Example of Identity Operator\n",
    "num1 = 10\n",
    "\n",
    "num2 = 10\n",
    "\n",
    "print(num1 is num2)  # True (Both variables point to the same memory location)\n",
    "\n",
    "print(num1 is not num2)  # False.\n"
   ]
  },
  {
   "cell_type": "markdown",
   "id": "d883b05e",
   "metadata": {},
   "source": [
    "### The differnce between Identity operator and Comparison operator\n",
    "\n",
    "#### - Identity Operators\n",
    "\n",
    "- Check whether two variables refer to the same object (memory location).\n",
    "\n",
    "\n",
    "#### - Comparison Oprators\n",
    "\n",
    "- Compare the values of two objects.\n"
   ]
  },
  {
   "cell_type": "code",
   "execution_count": null,
   "id": "d154e5ff",
   "metadata": {},
   "outputs": [],
   "source": [
    "# Example_01:\n",
    "num1 = 5\n",
    "\n",
    "num2 = 5\n",
    "\n",
    "# for Identity Operator\n",
    "print(num1 is num2)  # True (Both variables point to the same memory location)\n",
    "print(num1 is not num2)  # False.\n",
    "\n",
    "\n",
    "# for Comparison Operator\n",
    "print(num1 == num2)  # True (Both variables have the same value)\n",
    "print(num1 != num2)  # False (because they are equal)"
   ]
  },
  {
   "cell_type": "code",
   "execution_count": null,
   "id": "5d3b1ed5",
   "metadata": {},
   "outputs": [],
   "source": [
    "# Example_02:\n",
    "num1 = 10\n",
    "\n",
    "num2 = 5\n",
    "\n",
    "# for identity operator\n",
    "print(num1 is num2)  # False (Different memory locations)\n",
    "print(num1 is not num2)  # True.\n",
    "\n",
    "\n",
    "# for comparison operator\n",
    "print(num1 == num2)  # False (Different values)\n",
    "print(num1 != num2)  # True (because they are not equal)"
   ]
  }
 ],
 "metadata": {
  "kernelspec": {
   "display_name": "venv",
   "language": "python",
   "name": "python3"
  },
  "language_info": {
   "codemirror_mode": {
    "name": "ipython",
    "version": 3
   },
   "file_extension": ".py",
   "mimetype": "text/x-python",
   "name": "python",
   "nbconvert_exporter": "python",
   "pygments_lexer": "ipython3",
   "version": "3.12.11"
  }
 },
 "nbformat": 4,
 "nbformat_minor": 5
}
