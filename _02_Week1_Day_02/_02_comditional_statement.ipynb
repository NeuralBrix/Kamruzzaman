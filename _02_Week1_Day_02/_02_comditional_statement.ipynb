{
 "cells": [
  {
   "cell_type": "markdown",
   "id": "19d90c30",
   "metadata": {},
   "source": [
    "### Topic: Conditional Statements"
   ]
  },
  {
   "cell_type": "markdown",
   "id": "cf357c19",
   "metadata": {},
   "source": [
    "### \n",
    "- Controlling the flow of execution in a program.\n",
    "\n",
    "- Use conditional statements to make decisions in our code."
   ]
  },
  {
   "cell_type": "markdown",
   "id": "399b968e",
   "metadata": {},
   "source": [
    "### Type of Conditional Statements\n",
    "\n",
    "- if-else statement\n",
    "\n",
    "- elif statement\n",
    "\n",
    "- nested conditional statement"
   ]
  },
  {
   "cell_type": "markdown",
   "id": "0bb6f7aa",
   "metadata": {},
   "source": [
    "### if cds statements\n",
    "\n",
    "##### Syntax of if Cds:\n",
    "\n",
    "- if condition:\n",
    "    - block of code to execute if cds true\n",
    "\n",
    "- else:\n",
    "    -  block of code to execute if cds is false."
   ]
  },
  {
   "cell_type": "markdown",
   "id": "4b35ad1a",
   "metadata": {},
   "source": [
    "### Type of condition (if condition)\n",
    "\n",
    "- 1. single value \n",
    "\n",
    "- 2. comparision value"
   ]
  },
  {
   "cell_type": "code",
   "execution_count": 1,
   "id": "6746bab8",
   "metadata": {},
   "outputs": [
    {
     "name": "stdout",
     "output_type": "stream",
     "text": [
      "value of var:  10\n"
     ]
    }
   ],
   "source": [
    "# Example_01:  if cds statement with single type value\n",
    "\n",
    "var = 10\n",
    "\n",
    "if (var):\n",
    "    print(\"value of var: \", var)\n",
    "\n",
    "else:\n",
    "    print(\"There is no value of var\")"
   ]
  },
  {
   "cell_type": "code",
   "execution_count": null,
   "id": "26f55e28",
   "metadata": {},
   "outputs": [
    {
     "name": "stdout",
     "output_type": "stream",
     "text": [
      "True\n"
     ]
    }
   ],
   "source": [
    "# Example_02:  if cds statement with single type value\n",
    "\n",
    "# Any Non-Zero is True\n",
    "\n",
    "num = 0\n",
    "\n",
    "if(num):   #  only zero is false condition\n",
    "    print(\"False\")\n",
    "else:\n",
    "    print(\"True\")"
   ]
  },
  {
   "cell_type": "code",
   "execution_count": 5,
   "id": "254b9e89",
   "metadata": {},
   "outputs": [
    {
     "name": "stdout",
     "output_type": "stream",
     "text": [
      "True\n"
     ]
    }
   ],
   "source": [
    "# Example_03:  if cds statement with single type value\n",
    "\n",
    "if (2): \n",
    "    print(\"True\")  # o/p: True(Any non-zero is True in python)\n",
    "else:\n",
    "    print(\"False\")"
   ]
  },
  {
   "cell_type": "code",
   "execution_count": 6,
   "id": "b4d55f36",
   "metadata": {},
   "outputs": [
    {
     "name": "stdout",
     "output_type": "stream",
     "text": [
      "if statement is True\n"
     ]
    }
   ],
   "source": [
    "# Example_01:  if-else cds statement with comparison type value\n",
    "\n",
    "num = 10\n",
    "\n",
    "if(num == 10):\n",
    "    print(\"if statement is True\")\n",
    "else:\n",
    "    print(\"if statement is False\")"
   ]
  },
  {
   "cell_type": "code",
   "execution_count": 8,
   "id": "1b7bc316",
   "metadata": {},
   "outputs": [
    {
     "name": "stdout",
     "output_type": "stream",
     "text": [
      "They can vote\n",
      "They can drive\n"
     ]
    }
   ],
   "source": [
    "# Example_02:  if-else cds statement with comparison type value\n",
    "\n",
    "age = 18\n",
    "\n",
    "if(age >= 18):\n",
    "    print(\"They can vote\")\n",
    "    print(\"They can drive\")\n",
    "else:\n",
    "    print(\"They can't vote\")\n",
    "    print(\"They cant' drive\")"
   ]
  },
  {
   "cell_type": "markdown",
   "id": "9a1efeb7",
   "metadata": {},
   "source": [
    "#### Note : At the same time only one statements (if or elif or else) in run but not simultaneouly.\n",
    "\n",
    "- When if statement's condition is true then only run if statement body. never go to the elif, else statements.\n",
    "\n",
    "- when if statment's condition is false then go to the elif statement. never to go the else stateme(when elif is present)\n",
    "\n",
    "- At last go to else statement when both (if, elif) is false."
   ]
  },
  {
   "cell_type": "code",
   "execution_count": 9,
   "id": "9153d4e7",
   "metadata": {},
   "outputs": [
    {
     "name": "stdout",
     "output_type": "stream",
     "text": [
      "GO\n"
     ]
    }
   ],
   "source": [
    "# Example_001:  if-elif-else cds statement with comparison type value\n",
    "\n",
    "# Traffic light \n",
    "\n",
    "light = input(\"Enter the light color: \")\n",
    "\n",
    "if (light == 'red' or light == \"Red\" or light == \"RED\"):\n",
    "    print(\"STOP\")\n",
    "\n",
    "elif (light == 'yellow' or light == \"Yellow\" or light == \"YELLOW\"):\n",
    "    print(\"LOOK\") \n",
    "\n",
    "elif (light == 'green' or light == \"Green\" or light == \"GREEN\"):\n",
    "    print(\"GO\")\n",
    "\n",
    "else:\n",
    "    print(\"Light is Broken\")"
   ]
  },
  {
   "cell_type": "markdown",
   "id": "fb2dcb55",
   "metadata": {},
   "source": [
    "### nested conditional statement\n",
    "\n",
    "- refers to using conditional statements inside another condition statement."
   ]
  },
  {
   "cell_type": "code",
   "execution_count": 10,
   "id": "1bb4ee7c",
   "metadata": {},
   "outputs": [
    {
     "ename": "SyntaxError",
     "evalue": "unterminated string literal (detected at line 20) (841408220.py, line 20)",
     "output_type": "error",
     "traceback": [
      "  \u001b[36mCell\u001b[39m\u001b[36m \u001b[39m\u001b[32mIn[10]\u001b[39m\u001b[32m, line 20\u001b[39m\n\u001b[31m    \u001b[39m\u001b[31m''''\u001b[39m\n       ^\n\u001b[31mSyntaxError\u001b[39m\u001b[31m:\u001b[39m unterminated string literal (detected at line 20)\n"
     ]
    }
   ],
   "source": [
    "#### Syntax of Nested Conditional statements\n",
    "'''\n",
    " if (condition): # outter if statement\n",
    " \n",
    "    -----------   # body of outter if statment\n",
    "    -----------\n",
    "\n",
    "    if (condition)  # inner if statement\n",
    "        -----------\n",
    "        ----------- # body of the inner if statement\n",
    "    \n",
    "    else:   # inner else\n",
    "        -----------\n",
    "        ----------- # inner else statement\n",
    "\n",
    "else: # outter else \n",
    "    ------body of the outter else statement-----\n",
    "    --------------------------------------------\n",
    "    \n",
    "''''"
   ]
  },
  {
   "cell_type": "code",
   "execution_count": 13,
   "id": "dbc8e1eb",
   "metadata": {},
   "outputs": [
    {
     "name": "stdout",
     "output_type": "stream",
     "text": [
      "beginner adult\n"
     ]
    }
   ],
   "source": [
    "# Example_01:  Nested cds statement with comparison type value.\n",
    "\n",
    "age = int(input(\"Enter age: \"))\n",
    "\n",
    "if(age >=18):\n",
    "    if(age >=30):\n",
    "        print(\"Strongly Adult\")\n",
    "    elif(age>=25):\n",
    "        print(\"Middle Adult\")\n",
    "    else:\n",
    "        print(\"beginner adult\")\n",
    "\n",
    "else:\n",
    "    print(\"NOt Adult\")"
   ]
  },
  {
   "cell_type": "code",
   "execution_count": null,
   "id": "a5a18a99",
   "metadata": {},
   "outputs": [],
   "source": []
  }
 ],
 "metadata": {
  "kernelspec": {
   "display_name": "venv",
   "language": "python",
   "name": "python3"
  },
  "language_info": {
   "codemirror_mode": {
    "name": "ipython",
    "version": 3
   },
   "file_extension": ".py",
   "mimetype": "text/x-python",
   "name": "python",
   "nbconvert_exporter": "python",
   "pygments_lexer": "ipython3",
   "version": "3.12.11"
  }
 },
 "nbformat": 4,
 "nbformat_minor": 5
}
