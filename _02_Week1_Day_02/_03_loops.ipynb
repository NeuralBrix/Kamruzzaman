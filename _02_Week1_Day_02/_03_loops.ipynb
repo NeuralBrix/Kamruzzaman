{
  "cells": [
    {
      "cell_type": "markdown",
      "id": "0af6d7d2",
      "metadata": {
        "id": "0af6d7d2"
      },
      "source": [
        "## Topic: Loops"
      ]
    },
    {
      "cell_type": "markdown",
      "id": "623baec6",
      "metadata": {
        "id": "623baec6"
      },
      "source": [
        "#### OUTCOMES\n",
        "- Definition of loops\n",
        "\n",
        "- Type of loops\n",
        "\n",
        "- while loops\n",
        "\n",
        "- for loops\n",
        "\n",
        "- loop control statements (break,contine, pass)\n",
        "\n",
        "- practical example\n"
      ]
    },
    {
      "cell_type": "markdown",
      "id": "1a6926ab",
      "metadata": {
        "id": "1a6926ab"
      },
      "source": [
        "### Definition of loop\n",
        "- Loops are use to repeat instuctions.\n",
        "\n",
        "- Type of loops\n",
        "   \n",
        "    - while loop\n",
        "\n",
        "    - for loop"
      ]
    },
    {
      "cell_type": "code",
      "execution_count": null,
      "id": "e5e2bde3",
      "metadata": {
        "id": "e5e2bde3",
        "outputId": "3fc39279-bc5c-41ed-f1a0-6cb43a5d8d34"
      },
      "outputs": [
        {
          "ename": "SyntaxError",
          "evalue": "invalid character '’' (U+2019) (4083262967.py, line 3)",
          "output_type": "error",
          "traceback": [
            "  \u001b[36mCell\u001b[39m\u001b[36m \u001b[39m\u001b[32mIn[2]\u001b[39m\u001b[32m, line 3\u001b[39m\n\u001b[31m    \u001b[39m\u001b[31m-  A while loop is useful when you don’t know how many times to repeat (or loop are executes).\u001b[39m\n                                          ^\n\u001b[31mSyntaxError\u001b[39m\u001b[31m:\u001b[39m invalid character '’' (U+2019)\n"
          ]
        }
      ],
      "source": [
        "#### While loop\n",
        "\"\"\"\n",
        "-  A while loop is useful when you don’t know how many times to repeat (or loop are executes).\n",
        "\n",
        "\n",
        "- Syntax of While loop\n",
        "\n",
        "    initialization\n",
        "\n",
        "      while(condition):\n",
        "\n",
        "        - do something if the condition is true     # this is the body of while loop\n",
        "\n",
        "        - increment/decrement\n",
        "\n",
        "\"\"\""
      ]
    },
    {
      "cell_type": "code",
      "execution_count": null,
      "id": "c79b25eb",
      "metadata": {
        "id": "c79b25eb"
      },
      "outputs": [],
      "source": [
        "# Example of while loop\n",
        "\n",
        "while True:\n",
        "    print(\"KzRaihan\")  # this is infinite loop"
      ]
    },
    {
      "cell_type": "code",
      "execution_count": null,
      "id": "c01a2bec",
      "metadata": {
        "id": "c01a2bec"
      },
      "outputs": [],
      "source": [
        "# Example_02:\n",
        "\n",
        "while 1:\n",
        "    print(\"Good\") # this is also infinite loop\n",
        "\n",
        "\n",
        "### Note: Except for 'zero' or 'False,' all conditions are True by default."
      ]
    },
    {
      "cell_type": "code",
      "execution_count": null,
      "id": "fe978651",
      "metadata": {
        "id": "fe978651",
        "outputId": "84f97df5-02be-4909-851a-e66de7168de8"
      },
      "outputs": [
        {
          "name": "stdout",
          "output_type": "stream",
          "text": [
            "KzRaihan\n",
            "KzRaihan\n",
            "KzRaihan\n",
            "KzRaihan\n",
            "KzRaihan\n",
            "KzRaihan\n",
            "KzRaihan\n",
            "KzRaihan\n",
            "KzRaihan\n",
            "KzRaihan\n"
          ]
        }
      ],
      "source": [
        "## Example 03:\n",
        "i = 1\n",
        "\n",
        "while i<=10:\n",
        "    print(\"KzRaihan\")\n",
        "    i += 1\n",
        "\n"
      ]
    },
    {
      "cell_type": "code",
      "execution_count": null,
      "id": "7a64a362",
      "metadata": {
        "id": "7a64a362"
      },
      "outputs": [],
      "source": [
        "### infinite loops\n",
        "# if start value is greater than or equal to the end value and loop counter is increment then it is inifinite loop.\n",
        "\n",
        "i = 2\n",
        "\n",
        "while i >= 1:\n",
        "    print(i)\n",
        "    i += 1\n"
      ]
    },
    {
      "cell_type": "code",
      "execution_count": null,
      "id": "53418649",
      "metadata": {
        "id": "53418649"
      },
      "outputs": [],
      "source": [
        "# infinite loop using decrement\n",
        "\n",
        "i = 5\n",
        "\n",
        "while i <= 10:  # Every iteration i is decrement\n",
        "    print(i)\n",
        "\n",
        "    i -= 1"
      ]
    },
    {
      "cell_type": "code",
      "execution_count": null,
      "id": "99872cdc",
      "metadata": {
        "id": "99872cdc",
        "outputId": "f4534262-60fe-4ed4-c989-cbdcfdd26c65"
      },
      "outputs": [
        {
          "name": "stdout",
          "output_type": "stream",
          "text": [
            "1\n",
            "2\n",
            "3\n",
            "4\n",
            "5\n",
            "6\n",
            "7\n",
            "8\n",
            "9\n",
            "10\n",
            "11\n",
            "12\n",
            "13\n",
            "14\n",
            "15\n",
            "16\n",
            "17\n",
            "18\n",
            "19\n",
            "20\n"
          ]
        }
      ],
      "source": [
        "### Actual use of while loop\n",
        "# print numbers from 1 to 20\n",
        "\n",
        "i = 1\n",
        "\n",
        "while i<=20:\n",
        "    print(i)\n",
        "\n",
        "    i +=1"
      ]
    },
    {
      "cell_type": "markdown",
      "id": "c32d25ae",
      "metadata": {
        "id": "c32d25ae"
      },
      "source": [
        "#### for loop\n",
        "- Used to iterate over a sequence (like a list, tuple, string, etc.)"
      ]
    },
    {
      "cell_type": "code",
      "execution_count": null,
      "id": "a46cb8d6",
      "metadata": {
        "id": "a46cb8d6"
      },
      "outputs": [],
      "source": [
        "# syntax of for loop\n",
        "\"\"\"\n",
        "for item in sequence:\n",
        "    # body of for loop\n",
        "\n",
        "\n",
        "\"\"\""
      ]
    },
    {
      "cell_type": "code",
      "execution_count": null,
      "id": "9ca4aff9",
      "metadata": {
        "id": "9ca4aff9",
        "outputId": "540c97a3-6d83-4d9f-ac44-9fcb6600605b"
      },
      "outputs": [
        {
          "name": "stdout",
          "output_type": "stream",
          "text": [
            "M\n",
            "y\n",
            " \n",
            "n\n",
            "a\n",
            "m\n",
            "e\n",
            " \n",
            "i\n",
            "s\n",
            " \n",
            "K\n",
            "z\n",
            "R\n",
            "a\n",
            "i\n",
            "h\n",
            "a\n",
            "n\n"
          ]
        }
      ],
      "source": [
        "# Example of for loop with string\n",
        "\n",
        "name = \"My name is KzRaihan\"\n",
        "\n",
        "for item in name:\n",
        "    print(item)"
      ]
    },
    {
      "cell_type": "code",
      "execution_count": null,
      "id": "53b45cf5",
      "metadata": {
        "id": "53b45cf5",
        "outputId": "8d4f3627-a37d-4e8b-b2d2-7cb2ad324efc"
      },
      "outputs": [
        {
          "name": "stdout",
          "output_type": "stream",
          "text": [
            "10\n",
            "20\n",
            "30\n",
            "40\n",
            "50\n",
            "<class 'list'>\n"
          ]
        }
      ],
      "source": [
        "# Example of for loop with list\n",
        "lst = [10,20,30,40,50]\n",
        "\n",
        "for item in lst:\n",
        "    print(item)\n",
        "\n",
        "print(type(lst))"
      ]
    },
    {
      "cell_type": "code",
      "execution_count": null,
      "id": "a7a9d20d",
      "metadata": {
        "id": "a7a9d20d",
        "outputId": "8e11a8a2-17dd-49bb-9da7-5e963771c8a4"
      },
      "outputs": [
        {
          "name": "stdout",
          "output_type": "stream",
          "text": [
            "Patato\n",
            "Tamato\n",
            "Brinjal\n",
            "ladyfinger\n",
            "Cucumber\n",
            "<class 'tuple'>\n"
          ]
        }
      ],
      "source": [
        "# Example of for loop with tuple\n",
        "\n",
        "veg = (\"Patato\", \"Tamato\", \"Brinjal\", \"ladyfinger\", \"Cucumber\")\n",
        "\n",
        "for item in veg:\n",
        "    print(item)\n",
        "\n",
        "print(type(veg))\n",
        "\n"
      ]
    },
    {
      "cell_type": "code",
      "execution_count": 1,
      "id": "b33f0813",
      "metadata": {
        "id": "b33f0813",
        "outputId": "26db8828-c715-4d1b-ebf2-0201f95a517f"
      },
      "outputs": [
        {
          "name": "stdout",
          "output_type": "stream",
          "text": [
            "(10, 20, 30, 40, 50, 60, 70, 80)\n",
            "(10, 20, 30, 40, 50, 60, 70, 80)\n",
            "(10, 20, 30, 40, 50, 60, 70, 80)\n",
            "(10, 20, 30, 40, 50, 60, 70, 80)\n",
            "(10, 20, 30, 40, 50, 60, 70, 80)\n",
            "(10, 20, 30, 40, 50, 60, 70, 80)\n",
            "(10, 20, 30, 40, 50, 60, 70, 80)\n",
            "(10, 20, 30, 40, 50, 60, 70, 80)\n",
            "81\n"
          ]
        }
      ],
      "source": [
        "# example of for loop\n",
        "nums = (10, 20, 30,40, 50, 60, 70, 80)\n",
        "\n",
        "i = 1\n",
        "\n",
        "for i in nums:\n",
        "    print(nums)\n",
        "    i +=1\n",
        "\n",
        "print(i)\n",
        "\n"
      ]
    },
    {
      "cell_type": "markdown",
      "id": "35c234be",
      "metadata": {
        "id": "35c234be"
      },
      "source": [
        "#### range() function\n",
        "\n",
        "- range() function returns a sequenc of number.\n"
      ]
    },
    {
      "cell_type": "code",
      "execution_count": null,
      "id": "9da05cf9",
      "metadata": {
        "id": "9da05cf9"
      },
      "outputs": [],
      "source": [
        "# Syntax of range()\n",
        "\n",
        "\"\"\"\n",
        "range(start, stop, step)  # three arguments\n",
        "\n",
        "here,\n",
        "   - start = 0 (By default) and it's optional\n",
        "\n",
        "   - stop = a specified number based on condition (must be assign) and it's not inclusive\n",
        "\n",
        "   - step = 1 (By default) and it's optional\n",
        "\n",
        "\"\"\""
      ]
    },
    {
      "cell_type": "code",
      "execution_count": null,
      "id": "dcb83d0a",
      "metadata": {
        "id": "dcb83d0a",
        "outputId": "d64f2d76-0994-4bf5-a962-731b731ce988"
      },
      "outputs": [
        {
          "data": {
            "text/plain": [
              "range(1, 4)"
            ]
          },
          "execution_count": 33,
          "metadata": {},
          "output_type": "execute_result"
        }
      ],
      "source": [
        "# Example_01 of range()\n",
        "\n",
        "range(1,4,1)\n",
        "\n"
      ]
    },
    {
      "cell_type": "code",
      "execution_count": null,
      "id": "cc0fb88d",
      "metadata": {
        "id": "cc0fb88d",
        "outputId": "ceb34be5-fb56-4f4b-914b-8cd7d3783833"
      },
      "outputs": [
        {
          "data": {
            "text/plain": [
              "[1, 2, 3]"
            ]
          },
          "execution_count": 34,
          "metadata": {},
          "output_type": "execute_result"
        }
      ],
      "source": [
        "# type casting\n",
        "list(range(1,4,1))"
      ]
    },
    {
      "cell_type": "code",
      "execution_count": null,
      "id": "cef92e71",
      "metadata": {
        "id": "cef92e71",
        "outputId": "b06e508e-c84f-48f3-d5c2-720cd21a6f61"
      },
      "outputs": [
        {
          "name": "stdout",
          "output_type": "stream",
          "text": [
            "1\n",
            "2\n",
            "3\n",
            "4\n",
            "5\n",
            "6\n",
            "7\n",
            "8\n",
            "9\n"
          ]
        }
      ],
      "source": [
        "# Example_02 of range()\n",
        "\n",
        "for i in range(1,10):  # star = 1 and end = 10 -1\n",
        "    print(i)"
      ]
    },
    {
      "cell_type": "code",
      "execution_count": null,
      "id": "0500478e",
      "metadata": {
        "id": "0500478e",
        "outputId": "dff688bf-9342-494e-c87f-5984d8e36824"
      },
      "outputs": [
        {
          "name": "stdout",
          "output_type": "stream",
          "text": [
            "0\n",
            "1\n",
            "2\n",
            "3\n",
            "4\n",
            "5\n",
            "6\n",
            "7\n",
            "8\n",
            "9\n",
            "10\n",
            "11\n",
            "12\n",
            "13\n",
            "14\n"
          ]
        }
      ],
      "source": [
        "# Example_03 of range()\n",
        "\n",
        "for i in range(15):  # start = 0(default value) and end = 15 -1\n",
        "    print(i)"
      ]
    },
    {
      "cell_type": "code",
      "execution_count": null,
      "id": "cac8cb66",
      "metadata": {
        "id": "cac8cb66",
        "outputId": "41deb90e-7304-485d-c56f-1d67b95f6388"
      },
      "outputs": [
        {
          "name": "stdout",
          "output_type": "stream",
          "text": [
            "1\n",
            "3\n",
            "5\n",
            "7\n",
            "9\n",
            "11\n",
            "13\n",
            "15\n",
            "17\n",
            "19\n"
          ]
        }
      ],
      "source": [
        "# Example_04 of range()\n",
        "\n",
        "for i in range(1, 20, 2):  # start = 1 and end = 19 and step = 2\n",
        "    print(i)"
      ]
    },
    {
      "cell_type": "markdown",
      "id": "bd8c6b44",
      "metadata": {
        "id": "bd8c6b44"
      },
      "source": [
        "### Loop Control statements\n",
        "\n",
        "- use to teminate the loop when encounterd.\n",
        "\n",
        "    - break\n",
        "    - continue\n",
        "    - pass"
      ]
    },
    {
      "cell_type": "markdown",
      "id": "f598a4fd",
      "metadata": {
        "id": "f598a4fd"
      },
      "source": [
        "#### Break statement"
      ]
    },
    {
      "cell_type": "code",
      "execution_count": null,
      "id": "53fd6550",
      "metadata": {
        "id": "53fd6550",
        "outputId": "420ee15f-d2a2-4636-eaeb-d59e95116587"
      },
      "outputs": [
        {
          "name": "stdout",
          "output_type": "stream",
          "text": [
            "1\n",
            "2\n",
            "3\n",
            "4\n"
          ]
        }
      ],
      "source": [
        "### break control statement\n",
        "\n",
        "i = 1\n",
        "\n",
        "while i <= 10:\n",
        "    if (i==5):\n",
        "        break\n",
        "    print(i)\n",
        "\n",
        "    i += 1\n"
      ]
    },
    {
      "cell_type": "markdown",
      "id": "18015453",
      "metadata": {
        "id": "18015453"
      },
      "source": [
        "#### Continue statement"
      ]
    },
    {
      "cell_type": "code",
      "execution_count": null,
      "id": "617c311e",
      "metadata": {
        "id": "617c311e",
        "outputId": "93f5c757-1050-4d9b-daa1-511fa1e62c19"
      },
      "outputs": [
        {
          "name": "stdout",
          "output_type": "stream",
          "text": [
            "1\n",
            "2\n",
            "3\n",
            "4\n",
            "6\n",
            "7\n",
            "8\n",
            "9\n",
            "10\n"
          ]
        }
      ],
      "source": [
        "# continue control statement\n",
        "# - skip the pariticular set of line\n",
        "i = 1\n",
        "\n",
        "while i <= 10:\n",
        "    if i == 5:  # skip only 5\n",
        "        i += 1\n",
        "        continue\n",
        "    print(i)\n",
        "    i += 1"
      ]
    },
    {
      "cell_type": "code",
      "execution_count": null,
      "id": "0c332907",
      "metadata": {
        "id": "0c332907",
        "outputId": "568814b0-7974-493e-f998-4bf086155b4a"
      },
      "outputs": [
        {
          "name": "stdout",
          "output_type": "stream",
          "text": [
            "1\n",
            "3\n",
            "5\n",
            "7\n",
            "9\n"
          ]
        }
      ],
      "source": [
        "# example of contine statement\n",
        "\n",
        "i = 1\n",
        "\n",
        "while i <= 10:\n",
        "\n",
        "    if i%2 == 0:   # skip all even numbers\n",
        "        i += 1\n",
        "        continue\n",
        "    print(i)\n",
        "    i += 1\n",
        "\n"
      ]
    },
    {
      "cell_type": "markdown",
      "id": "1c6335b3",
      "metadata": {
        "id": "1c6335b3"
      },
      "source": [
        "#### pass statement"
      ]
    },
    {
      "cell_type": "code",
      "execution_count": null,
      "id": "70dcbedc",
      "metadata": {
        "id": "70dcbedc",
        "outputId": "9c136ab9-52dc-46b1-e690-21f02d52f1de"
      },
      "outputs": [
        {
          "name": "stdout",
          "output_type": "stream",
          "text": [
            "some useful work\n"
          ]
        }
      ],
      "source": [
        "## pass statement\n",
        "# pass is a null statement. it's does nothing.\n",
        "# - use as placeholder for future code.\n",
        "\n",
        "for el in range(10):\n",
        "    pass\n",
        "\n",
        "print(\"some useful work\")"
      ]
    }
  ],
  "metadata": {
    "colab": {
      "provenance": []
    },
    "kernelspec": {
      "display_name": "venv",
      "language": "python",
      "name": "python3"
    },
    "language_info": {
      "codemirror_mode": {
        "name": "ipython",
        "version": 3
      },
      "file_extension": ".py",
      "mimetype": "text/x-python",
      "name": "python",
      "nbconvert_exporter": "python",
      "pygments_lexer": "ipython3",
      "version": "3.12.11"
    }
  },
  "nbformat": 4,
  "nbformat_minor": 5
}
