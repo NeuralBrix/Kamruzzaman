{
 "cells": [
  {
   "cell_type": "markdown",
   "id": "709f337e",
   "metadata": {},
   "source": [
    "### OUTCOMES:\n",
    "\n",
    "- Variable\n",
    "- Comments \n",
    "- identation Rules "
   ]
  },
  {
   "cell_type": "markdown",
   "id": "2b5394d1",
   "metadata": {},
   "source": [
    "### Topic: Variable\n",
    "\n",
    "- Variable is a container that store data."
   ]
  },
  {
   "cell_type": "code",
   "execution_count": null,
   "id": "61f26992",
   "metadata": {},
   "outputs": [
    {
     "name": "stdout",
     "output_type": "stream",
     "text": [
      "10\n",
      "KzRaihan\n",
      "24\n",
      "5.8\n",
      "True\n"
     ]
    }
   ],
   "source": [
    "# Variable name is simple, short and meaningful.\n",
    "\n",
    "# Variable Declare and Assign\n",
    "var = 10   # here, var is variable name and 10 is variable value\n",
    "name = \"KzRaihan\"\n",
    "age = 24\n",
    "height = 5.8\n",
    "is_student = True\n",
    "\n",
    "# printing the Variable value\n",
    "print(var)\n",
    "print(name)\n",
    "print(age)\n",
    "print(height)\n",
    "print(is_student)\n",
    "\n"
   ]
  },
  {
   "cell_type": "code",
   "execution_count": 2,
   "id": "f24be2df",
   "metadata": {},
   "outputs": [
    {
     "name": "stdout",
     "output_type": "stream",
     "text": [
      "Course Name :  Python Programming language\n",
      "Writer:  KzRaihan\n",
      "Author age:  24\n",
      "Book Price:  500.99\n",
      "Is Available:  True\n"
     ]
    }
   ],
   "source": [
    "# Valid Variable \n",
    "# Variable must start with letter or underscore(_)\n",
    "\n",
    "course = \"Python Programming language\"\n",
    "author = \"KzRaihan\"\n",
    "age = 24\n",
    "book_price = 500.99\n",
    "is_available = True\n",
    "\n",
    "# printing the variable value\n",
    "print(\"Course Name : \", course)\n",
    "print(\"Writer: \", author)\n",
    "print(\"Author age: \", age)\n",
    "print(\"Book Price: \", book_price)\n",
    "print(\"Is Available: \", is_available)"
   ]
  },
  {
   "cell_type": "code",
   "execution_count": 3,
   "id": "faca352b",
   "metadata": {},
   "outputs": [
    {
     "ename": "SyntaxError",
     "evalue": "invalid syntax (1970180061.py, line 6)",
     "output_type": "error",
     "traceback": [
      "  \u001b[36mCell\u001b[39m\u001b[36m \u001b[39m\u001b[32mIn[3]\u001b[39m\u001b[32m, line 6\u001b[39m\n\u001b[31m    \u001b[39m\u001b[31mvar@ = 10\u001b[39m\n         ^\n\u001b[31mSyntaxError\u001b[39m\u001b[31m:\u001b[39m invalid syntax\n"
     ]
    }
   ],
   "source": [
    "# Invalid Variable\n",
    "# - Variable can't start with a number\n",
    "# - Variable can't contain spaces, special characters(@, !,#,$ etc)\n",
    "\n",
    "!_name = \"Kz\"\n",
    "var@ = 10\n",
    "%price = 500.99\n",
    "first name = \"KzRaihan\"\n"
   ]
  },
  {
   "cell_type": "code",
   "execution_count": 6,
   "id": "6ccc46d6",
   "metadata": {},
   "outputs": [
    {
     "name": "stdout",
     "output_type": "stream",
     "text": [
      "First Name:  KzRaihan\n",
      "Last Name:  Raihan\n",
      "Book Price:  599.99\n"
     ]
    }
   ],
   "source": [
    "# Naming Conventions\n",
    "# - Multiply word variable follow three naming styles\n",
    "#   1. snake_case (most use)\n",
    "#   2. camelCase\n",
    "#   3. PascalCase\n",
    "\n",
    "first_name = \"KzRaihan\"  # snake_case\n",
    "lastName = \"Raihan\"      # camelCase\n",
    "BookPrice = 599.99       # PascalCase\n",
    "\n",
    "\n",
    "# printing the variable value\n",
    "print(\"First Name: \", first_name)\n",
    "print(\"Last Name: \", lastName)\n",
    "print(\"Book Price: \", BookPrice)"
   ]
  },
  {
   "cell_type": "markdown",
   "id": "2ab9fbc4",
   "metadata": {},
   "source": [
    "#### Comments\n",
    "- Comments don’t affect program execution, but they are essential for understanding, maintaining, and collaborating on code.\n",
    "\n",
    "- Comments use to explain the code.\n",
    "\n",
    "- Two way to define comments\n",
    "   - 1. single line comments\n",
    "   - 2. Multi-line comments"
   ]
  },
  {
   "cell_type": "code",
   "execution_count": null,
   "id": "ab0d0502",
   "metadata": {},
   "outputs": [],
   "source": [
    "# 1. single-line comments\n",
    "# This is a single line comment.\n",
    "\n",
    "num = 10 # assign value to num variable\n"
   ]
  },
  {
   "cell_type": "code",
   "execution_count": null,
   "id": "066ffe7d",
   "metadata": {},
   "outputs": [],
   "source": [
    "# 2. Multi-line comments\n",
    "\n",
    "'''\n",
    "This is multi-line\n",
    "comments\n",
    "\n",
    "Note: In jupyter notebook we comments in markdown cell.\n",
    "\n",
    "'''"
   ]
  },
  {
   "cell_type": "markdown",
   "id": "ac7ce94b",
   "metadata": {},
   "source": [
    "### Indentation Rule\n",
    "\n",
    "- Python uses indentation to define blocks of code.\n",
    "- Consists of 4 spaces or a tab."
   ]
  },
  {
   "cell_type": "code",
   "execution_count": 8,
   "id": "6b9c0950",
   "metadata": {},
   "outputs": [
    {
     "name": "stdout",
     "output_type": "stream",
     "text": [
      "You are a minor\n",
      "Welcome to the adult world!\n"
     ]
    }
   ],
   "source": [
    "age = 18\n",
    "\n",
    "if age < 20:\n",
    "    print(\"You are a minor\")\n",
    "\n",
    "print(\"Welcome to the adult world!\")"
   ]
  }
 ],
 "metadata": {
  "kernelspec": {
   "display_name": "venv",
   "language": "python",
   "name": "python3"
  },
  "language_info": {
   "codemirror_mode": {
    "name": "ipython",
    "version": 3
   },
   "file_extension": ".py",
   "mimetype": "text/x-python",
   "name": "python",
   "nbconvert_exporter": "python",
   "pygments_lexer": "ipython3",
   "version": "3.12.11"
  }
 },
 "nbformat": 4,
 "nbformat_minor": 5
}
