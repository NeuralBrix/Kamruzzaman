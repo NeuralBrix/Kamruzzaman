{
 "cells": [
  {
   "cell_type": "markdown",
   "id": "3b468047",
   "metadata": {},
   "source": [
    "### Topic: Data type\n",
    "- Data type is refers what kind of data that variable can hold."
   ]
  },
  {
   "cell_type": "markdown",
   "id": "16ec9951",
   "metadata": {},
   "source": [
    "### OUTCOMES:\n",
    "- Data Type.\n",
    "- String Formatting.\n",
    "- input() and print() functions\n",
    "- Practical Example."
   ]
  },
  {
   "cell_type": "markdown",
   "id": "27e1eb03",
   "metadata": {},
   "source": [
    "### Data Type"
   ]
  },
  {
   "cell_type": "code",
   "execution_count": 1,
   "id": "5594aacc",
   "metadata": {},
   "outputs": [
    {
     "name": "stdout",
     "output_type": "stream",
     "text": [
      "90\n",
      "<class 'int'>\n"
     ]
    }
   ],
   "source": [
    "# integer Data type\n",
    "\n",
    "num = 90\n",
    "print(num)\n",
    "print(type(num))"
   ]
  },
  {
   "cell_type": "code",
   "execution_count": 2,
   "id": "f9bb952d",
   "metadata": {},
   "outputs": [
    {
     "name": "stdout",
     "output_type": "stream",
     "text": [
      "999.99\n",
      "<class 'float'>\n"
     ]
    }
   ],
   "source": [
    "# float Data Type\n",
    "\n",
    "price = 999.99\n",
    "print(price)\n",
    "print(type(price))"
   ]
  },
  {
   "cell_type": "code",
   "execution_count": 5,
   "id": "9fb2bc3e",
   "metadata": {},
   "outputs": [
    {
     "name": "stdout",
     "output_type": "stream",
     "text": [
      "Kz Raihan\n",
      "<class 'str'>\n",
      "Bangladesh\n",
      "<class 'str'>\n"
     ]
    }
   ],
   "source": [
    "# String Data type\n",
    "name = \"Kz Raihan\"\n",
    "print(name)\n",
    "print(type(name))\n",
    "\n",
    "\n",
    "# another example\n",
    "str1 = \"Bangladesh\"\n",
    "print(str1)\n",
    "print(type(str1))\n"
   ]
  },
  {
   "cell_type": "code",
   "execution_count": 3,
   "id": "e6bd8332",
   "metadata": {},
   "outputs": [
    {
     "name": "stdout",
     "output_type": "stream",
     "text": [
      "True\n",
      "<class 'bool'>\n"
     ]
    }
   ],
   "source": [
    "# boolean Data type\n",
    "is_student = True\n",
    "print(is_student)\n",
    "print(type(is_student))"
   ]
  },
  {
   "cell_type": "code",
   "execution_count": 4,
   "id": "c244bfa7",
   "metadata": {},
   "outputs": [
    {
     "name": "stdout",
     "output_type": "stream",
     "text": [
      "False\n",
      "True\n",
      "<class 'bool'>\n"
     ]
    }
   ],
   "source": [
    "# another example of boolean data type\n",
    "num1 = 10\n",
    "num2 = 20\n",
    "\n",
    "print(num1 == num2)\n",
    "print(num1 != num2)\n",
    "print(type(num1 == num2))"
   ]
  },
  {
   "cell_type": "markdown",
   "id": "d34dd5b4",
   "metadata": {},
   "source": [
    "### String Formating"
   ]
  },
  {
   "cell_type": "code",
   "execution_count": 6,
   "id": "f2d32254",
   "metadata": {},
   "outputs": [
    {
     "name": "stdout",
     "output_type": "stream",
     "text": [
      "Summation: 30\n"
     ]
    }
   ],
   "source": [
    "# Method_01: General way\n",
    "num1 = 10\n",
    "num2 = 20\n",
    "\n",
    "sum = num1 + num2\n",
    "print(\"Summation:\", sum)"
   ]
  },
  {
   "cell_type": "code",
   "execution_count": null,
   "id": "5ea58e72",
   "metadata": {},
   "outputs": [
    {
     "name": "stdout",
     "output_type": "stream",
     "text": [
      "10 + 20 = 30\n"
     ]
    }
   ],
   "source": [
    "# Method_02: Using f-strings\n",
    "num1 = 10\n",
    "num2 = 20\n",
    "\n",
    "ans = num1 + num2\n",
    "\n",
    "print(f\"{num1} + {num2} = {ans}\")"
   ]
  },
  {
   "cell_type": "code",
   "execution_count": 8,
   "id": "a80490df",
   "metadata": {},
   "outputs": [
    {
     "name": "stdout",
     "output_type": "stream",
     "text": [
      "10 + 20 = 30\n"
     ]
    }
   ],
   "source": [
    "# Method_03: Using format()\n",
    "num1 = 10\n",
    "num2 = 20\n",
    "\n",
    "result = num1 + num2\n",
    "\n",
    "print(\"{} + {} = {}\".format(num1, num2, result))"
   ]
  },
  {
   "cell_type": "markdown",
   "id": "d8bbf6df",
   "metadata": {},
   "source": [
    "### Practical Example"
   ]
  },
  {
   "cell_type": "code",
   "execution_count": 13,
   "id": "ce8efda3",
   "metadata": {},
   "outputs": [
    {
     "name": "stdout",
     "output_type": "stream",
     "text": [
      "Numbers are:  50 30\n",
      "50 + 30 =  80\n",
      "50 - 30 =  20\n",
      "50 * 30 = 1500\n",
      "50 / 30 = 1.67\n"
     ]
    }
   ],
   "source": [
    "# Write a python program that create  Simple Calculator which calculate addition, subtraction, multiplication and division and use proper formatting.\n",
    "\n",
    "num1 = 50\n",
    "num2 = 30\n",
    "\n",
    "sum = num1 + num2\n",
    "subtraction = num1 - num2\n",
    "multiplication = num1 * num2\n",
    "division = num1 / num2\n",
    "\n",
    "print(\"Numbers are: \", num1, num2)\n",
    "\n",
    "print(f\"{num1} + {num2} = \", sum)\n",
    "\n",
    "print(f\"{num1} - {num2} = \", subtraction)\n",
    "\n",
    "print(\"{} * {} = {}\".format(num1, num2, multiplication))\n",
    "\n",
    "print(\"{} / {} = {:.2f}\".format(num1, num2, division))\n"
   ]
  }
 ],
 "metadata": {
  "kernelspec": {
   "display_name": "venv",
   "language": "python",
   "name": "python3"
  },
  "language_info": {
   "codemirror_mode": {
    "name": "ipython",
    "version": 3
   },
   "file_extension": ".py",
   "mimetype": "text/x-python",
   "name": "python",
   "nbconvert_exporter": "python",
   "pygments_lexer": "ipython3",
   "version": "3.12.11"
  }
 },
 "nbformat": 4,
 "nbformat_minor": 5
}
