{
 "cells": [
  {
   "cell_type": "markdown",
   "id": "360f0e63",
   "metadata": {},
   "source": [
    "### Topic: Dictionaried of python"
   ]
  },
  {
   "cell_type": "markdown",
   "id": "9fbe81d9",
   "metadata": {},
   "source": [
    "### OUTCOMES\n",
    "\n",
    "- 1. Introduction of Dictionaries.\n",
    "\n",
    "- 2. Properties of Dictionaries.\n",
    "\n",
    "- 3. Application of Dictionaries in ml\n",
    "\n",
    "- 4. Create Dictionaries.\n",
    "\n",
    "- 5. Common Operations.\n",
    "\n",
    "- 6. Common Methods.\n",
    "\n",
    "- 7. Membership Opration\n",
    "\n",
    "- 8. Iteration over Dictionaries.\n",
    "\n",
    "- 9. Compare list and Dictionaries speeds.\n",
    "\n",
    "- 10. Nested Dictionaries.\n",
    "\n",
    "- 11. Practical Examples.\n"
   ]
  },
  {
   "cell_type": "markdown",
   "id": "17a8f102",
   "metadata": {},
   "source": [
    "### 1. Introduction of Dictionaries.\n",
    "\n",
    "- Dictionaries are unordered , mutable collections of items that store data in key-value pairs.\n",
    "\n",
    "- key:\n",
    "  - Key must be unique and immutable (eg. int, float, str, tuple)\n",
    "\n",
    "- value:\n",
    "  - Values can be any type."
   ]
  },
  {
   "cell_type": "code",
   "execution_count": null,
   "id": "39570940",
   "metadata": {},
   "outputs": [],
   "source": [
    "# Syntax of dictionaries\n",
    "\n",
    "'''  \n",
    "dic_name = {\n",
    "\n",
    "    \"Key1\" : value1,\n",
    "\n",
    "    \"Key2\" : value2,\n",
    "\n",
    "    .................\n",
    "    ...............\n",
    "}\n",
    "'''\n",
    "# Note: Key must be unique and it's must be immutable (str, int, float, tuple).\n"
   ]
  },
  {
   "cell_type": "markdown",
   "id": "173cedb2",
   "metadata": {},
   "source": [
    "### 2. Properties of Dictionaries.\n",
    "\n",
    "- can't support index that means this is unorder data sturctue.\n",
    "\n",
    "- How to access the dictionaries elements\n",
    "    - To access dict elements using key.\n",
    "        - 1. keys convert into hash value.\n",
    "        - 2. then hash value convert into slot number.\n",
    "        - 3. according to the slot number python automatically store that memory location.\n",
    "\n",
    "        - how to Calculate hash value:\n",
    "            - hash_value = hash(\"key\") \n",
    "            - slot nums = (hash_value/size of the hash table)\n",
    "        \n",
    "        - According to slot value dictionary directly go that location and access and modify the values.\n",
    "        \n",
    "        - for this directly access the time require O(1) that menas faster access.\n"
   ]
  },
  {
   "cell_type": "markdown",
   "id": "ad92f4c5",
   "metadata": {},
   "source": [
    "### 3. Application of Dictionaries in ml\n",
    "\n",
    "- To store Algorithms performances and measurement values such as\n",
    "    - Accuracy, Precision, recall, F1-score etc.\n",
    "\n",
    "- Use to store json data in dictionarier.\n",
    "\n",
    "- To store the value of model Prediction."
   ]
  },
  {
   "cell_type": "markdown",
   "id": "6cb52260",
   "metadata": {},
   "source": [
    "### 4. Create Dictionaries."
   ]
  },
  {
   "cell_type": "code",
   "execution_count": null,
   "id": "3f692d02",
   "metadata": {},
   "outputs": [
    {
     "name": "stdout",
     "output_type": "stream",
     "text": [
      "{}\n",
      "<class 'dict'>\n"
     ]
    }
   ],
   "source": [
    "# Example_01: create empty or null dictionary\n",
    "\n",
    "# 1st way or general way\n",
    "empty_dic = {}\n",
    "\n",
    "print(empty_dic)\n",
    "\n",
    "print(type(empty_dic))"
   ]
  },
  {
   "cell_type": "code",
   "execution_count": 2,
   "id": "afa50d13",
   "metadata": {},
   "outputs": [
    {
     "name": "stdout",
     "output_type": "stream",
     "text": [
      "{}\n",
      "<class 'dict'>\n"
     ]
    }
   ],
   "source": [
    "# Example_02: create empty or null dictionary\n",
    "\n",
    "# 2nd way using dict class\n",
    "null_dic = dict()\n",
    "\n",
    "print(null_dic)\n",
    "\n",
    "print(type(null_dic))"
   ]
  },
  {
   "cell_type": "code",
   "execution_count": null,
   "id": "6b94414c",
   "metadata": {},
   "outputs": [
    {
     "name": "stdout",
     "output_type": "stream",
     "text": [
      "{}\n",
      "Dictionary is empty\n"
     ]
    }
   ],
   "source": [
    "# Example_01: To check it's created empty / null dictionary or not\n",
    "\n",
    "# for single value : we know excepts zero and False all value are True by default.\n",
    "\n",
    "#  False codition:\n",
    "#    0    = False condition (for numbers)\n",
    "#  Fasle  = False conditon (for boolen)\n",
    "\n",
    "print(empty_dic)\n",
    "\n",
    "if empty_dic:\n",
    "    print(\"Dictionary are not empty\")\n",
    "else:\n",
    "    print(\"Dictionary are empty\")"
   ]
  },
  {
   "cell_type": "code",
   "execution_count": null,
   "id": "31cad6ee",
   "metadata": {},
   "outputs": [
    {
     "name": "stdout",
     "output_type": "stream",
     "text": [
      "{}\n",
      "False\n"
     ]
    }
   ],
   "source": [
    "# Example_02: To check it's created empty / null dictionary or not \n",
    "\n",
    "print(null_dic)\n",
    "\n",
    "if null_dic:\n",
    "    print(True)\n",
    "else:\n",
    "    print(False)"
   ]
  },
  {
   "cell_type": "code",
   "execution_count": null,
   "id": "32976198",
   "metadata": {},
   "outputs": [
    {
     "name": "stdout",
     "output_type": "stream",
     "text": [
      "{'name': 'KzRaihan', 'course': 'python', 10: 'credit', 3.14: 'PI value', True: 'is_student', 'is_old': False, ('Kz', 10, 999.9): 'Tuple values', 7: 700}\n",
      "KzRaihan\n",
      "Tuple values\n",
      "700\n",
      "is_student\n"
     ]
    }
   ],
   "source": [
    "# Example_03: creating dictionaries for different data types\n",
    "\n",
    "mix_dic = {\n",
    "    \"name\" : \"KzRaihan\",\n",
    "    \"course\": \"python\",\n",
    "    10     : \"credit\",\n",
    "    3.14   : \"PI value\",\n",
    "    True  : \"is_student\",\n",
    "    \"is_old\": False,\n",
    "    (\"Kz\", 10, 999.9): \"Tuple values\",\n",
    "    7 : 700,\n",
    " # [10, 20, 30] : \"List value\"  # this is not posible because list is mutable data type.(keys can't be mutable)\n",
    "\n",
    "}\n",
    "print(mix_dic)\n",
    "\n",
    "# access individual elements by using key\n",
    "print(mix_dic[\"name\"])\n",
    "\n",
    "print(mix_dic[(\"Kz\", 10, 999.9)])\n",
    "\n",
    "print(mix_dic[7])\n",
    "\n",
    "print(mix_dic[True])\n",
    "\n",
    "# for this way to access the dictionaries values.\n",
    "\n"
   ]
  },
  {
   "cell_type": "code",
   "execution_count": 2,
   "id": "802bdf0e",
   "metadata": {},
   "outputs": [
    {
     "name": "stdout",
     "output_type": "stream",
     "text": [
      "{'learning_rate': 0.05, 'batch_size': 64, 'num_ephoch': 50}\n",
      "0.05\n",
      "64\n"
     ]
    }
   ],
   "source": [
    "# Example_01: creating dictionaries\n",
    "\n",
    "params = {\n",
    "    \"learning_rate\": 0.05,\n",
    "    \"batch_size\"  : 64,\n",
    "    \"num_ephoch\"  : 50\n",
    "}\n",
    "\n",
    "print(params)\n",
    "\n",
    "# Access the dic elements\n",
    "\n",
    "learning_rate_value = params[\"learning_rate\"]  \n",
    "\n",
    "print(learning_rate_value)  # 0.05\n",
    "\n",
    "# another way to access dic element only uisng print()\n",
    "print(params[\"batch_size\"])  # 64\n",
    "\n"
   ]
  },
  {
   "cell_type": "code",
   "execution_count": 3,
   "id": "c10165d8",
   "metadata": {},
   "outputs": [
    {
     "name": "stdout",
     "output_type": "stream",
     "text": [
      "{'learning_rate': 0.05, 'batch_size': 64, 'num_ephoch': 50}\n",
      "{'learning_rate': 0.12, 'batch_size': 64, 'num_ephoch': 50}\n"
     ]
    }
   ],
   "source": [
    "# Example_02: create and update/modify the dictionary elements\n",
    "print(params)\n",
    "\n",
    "# modify\n",
    "params[\"learning_rate\"] = 0.12\n",
    "\n",
    "print(params)\n",
    "\n"
   ]
  },
  {
   "cell_type": "code",
   "execution_count": 4,
   "id": "48499268",
   "metadata": {},
   "outputs": [
    {
     "name": "stdout",
     "output_type": "stream",
     "text": [
      "{'learning_rate': 0.12, 'batch_size': 64, 'num_ephoch': 50}\n",
      "{'learning_rate': 0.12, 'batch_size': 64, 'num_ephoch': 50, 'optimizer': 'adam'}\n"
     ]
    }
   ],
   "source": [
    "# Example_03: create and add the dictionary key-value pairs.\n",
    "\n",
    "print(params)\n",
    "\n",
    "# add new key-value\n",
    "params[\"optimizer\"] = \"adam\"\n",
    "\n",
    "print(params)"
   ]
  },
  {
   "cell_type": "code",
   "execution_count": 6,
   "id": "53ad2e16",
   "metadata": {},
   "outputs": [
    {
     "name": "stdout",
     "output_type": "stream",
     "text": [
      "{'learning_rate': 0.12, 'batch_size': 64, 'num_ephoch': 50, 'optimizer': 'adam'}\n",
      "{'learning_rate': 0.12, 'batch_size': 64, 'num_ephoch': 35, 'optimizer': 'adam'}\n"
     ]
    }
   ],
   "source": [
    "# Example_04: if key is not unique \n",
    "\n",
    "print(params)\n",
    "\n",
    "# add new key-value when key is not unique\n",
    "params[\"num_ephoch\"] = 35\n",
    "\n",
    "print(params)\n",
    "\n",
    "# Note: key must be unique and immutable.\n",
    "# dictionary is not support duplicate key\n",
    "# if the keys are duplicate then key is not change but only value is change or update."
   ]
  },
  {
   "cell_type": "markdown",
   "id": "3708214b",
   "metadata": {},
   "source": [
    "### 5. Common Operations."
   ]
  },
  {
   "cell_type": "code",
   "execution_count": 8,
   "id": "f6cf5852",
   "metadata": {},
   "outputs": [
    {
     "name": "stdout",
     "output_type": "stream",
     "text": [
      "{'learning_rate': 0.12, 'batch_size': 64, 'num_ephoch': 35, 'optimizer': 'adam'}\n",
      "Length of the params:  4\n"
     ]
    }
   ],
   "source": [
    "# Example_01: len(dic)\n",
    "# Return the length (how many elements inside the dictionary) of the dictiionaries.\n",
    "\n",
    "print(params)\n",
    "\n",
    "length_params = len(params)\n",
    "\n",
    "print(f\"Length of the params: \", length_params)"
   ]
  },
  {
   "cell_type": "code",
   "execution_count": 9,
   "id": "61cbc131",
   "metadata": {},
   "outputs": [
    {
     "ename": "TypeError",
     "evalue": "unsupported operand type(s) for +: 'dict' and 'dict'",
     "output_type": "error",
     "traceback": [
      "\u001b[31m---------------------------------------------------------------------------\u001b[39m",
      "\u001b[31mTypeError\u001b[39m                                 Traceback (most recent call last)",
      "\u001b[36mCell\u001b[39m\u001b[36m \u001b[39m\u001b[32mIn[9]\u001b[39m\u001b[32m, line 13\u001b[39m\n\u001b[32m      3\u001b[39m dic_01 = {\n\u001b[32m      4\u001b[39m     \u001b[33m\"\u001b[39m\u001b[33mname\u001b[39m\u001b[33m\"\u001b[39m: \u001b[33m\"\u001b[39m\u001b[33mKzRaihan\u001b[39m\u001b[33m\"\u001b[39m, \n\u001b[32m      5\u001b[39m     \u001b[33m\"\u001b[39m\u001b[33msubject\u001b[39m\u001b[33m\"\u001b[39m: [\u001b[33m\"\u001b[39m\u001b[33mEnglish\u001b[39m\u001b[33m\"\u001b[39m, \u001b[33m\"\u001b[39m\u001b[33mICT\u001b[39m\u001b[33m\"\u001b[39m, \u001b[33m\"\u001b[39m\u001b[33mMath\u001b[39m\u001b[33m\"\u001b[39m]\n\u001b[32m      6\u001b[39m }\n\u001b[32m      8\u001b[39m dic_02 = {\n\u001b[32m      9\u001b[39m     \u001b[33m\"\u001b[39m\u001b[33mname\u001b[39m\u001b[33m\"\u001b[39m: \u001b[33m\"\u001b[39m\u001b[33mRaihan\u001b[39m\u001b[33m\"\u001b[39m, \n\u001b[32m     10\u001b[39m     \u001b[33m\"\u001b[39m\u001b[33mcourse\u001b[39m\u001b[33m\"\u001b[39m: [\u001b[33m\"\u001b[39m\u001b[33mPython\u001b[39m\u001b[33m\"\u001b[39m, \u001b[33m\"\u001b[39m\u001b[33mC\u001b[39m\u001b[33m\"\u001b[39m, \u001b[33m\"\u001b[39m\u001b[33mJava\u001b[39m\u001b[33m\"\u001b[39m]\n\u001b[32m     11\u001b[39m }\n\u001b[32m---> \u001b[39m\u001b[32m13\u001b[39m concatenation_dic = \u001b[43mdic_01\u001b[49m\u001b[43m \u001b[49m\u001b[43m+\u001b[49m\u001b[43m \u001b[49m\u001b[43mdic_02\u001b[49m\n\u001b[32m     15\u001b[39m \u001b[38;5;28mprint\u001b[39m(\u001b[33m\"\u001b[39m\u001b[33mConcatenation of dic: \u001b[39m\u001b[33m\"\u001b[39m, concatenation_dic)\n",
      "\u001b[31mTypeError\u001b[39m: unsupported operand type(s) for +: 'dict' and 'dict'"
     ]
    }
   ],
   "source": [
    "# Example_02: concatenation of dictionary\n",
    "\n",
    "dic_01 = {\n",
    "    \"name\": \"KzRaihan\", \n",
    "    \"subject\": [\"English\", \"ICT\", \"Math\"]\n",
    "}\n",
    "\n",
    "dic_02 = {\n",
    "    \"name\": \"Raihan\", \n",
    "    \"course\": [\"Python\", \"C\", \"Java\"]\n",
    "}\n",
    "\n",
    "concatenation_dic = dic_01 + dic_02\n",
    "\n",
    "print(\"Concatenation of dic: \", concatenation_dic)\n",
    "\n",
    "# dictionary concatenation is not posible"
   ]
  },
  {
   "cell_type": "code",
   "execution_count": 16,
   "id": "45c19703",
   "metadata": {},
   "outputs": [
    {
     "name": "stdout",
     "output_type": "stream",
     "text": [
      "{'name': 'KzRaihan', 'subject': ['English', 'ICT', 'Math']}\n"
     ]
    },
    {
     "ename": "NameError",
     "evalue": "name 'dic_01' is not defined",
     "output_type": "error",
     "traceback": [
      "\u001b[31m---------------------------------------------------------------------------\u001b[39m",
      "\u001b[31mNameError\u001b[39m                                 Traceback (most recent call last)",
      "\u001b[36mCell\u001b[39m\u001b[36m \u001b[39m\u001b[32mIn[16]\u001b[39m\u001b[32m, line 9\u001b[39m\n\u001b[32m      5\u001b[39m \u001b[38;5;66;03m# delete dic_01\u001b[39;00m\n\u001b[32m      7\u001b[39m \u001b[38;5;28;01mdel\u001b[39;00m(dic_01)\n\u001b[32m----> \u001b[39m\u001b[32m9\u001b[39m \u001b[38;5;28mprint\u001b[39m(\u001b[43mdic_01\u001b[49m)\n",
      "\u001b[31mNameError\u001b[39m: name 'dic_01' is not defined"
     ]
    }
   ],
   "source": [
    "# Example_03: del(dic) delete of dictionary\n",
    "\n",
    "print(dic_01)\n",
    "\n",
    "# delete dic_01\n",
    "\n",
    "del(dic_01)\n",
    "\n",
    "print(dic_01)\n",
    "\n"
   ]
  },
  {
   "cell_type": "code",
   "execution_count": 19,
   "id": "486bff2a",
   "metadata": {},
   "outputs": [
    {
     "name": "stdout",
     "output_type": "stream",
     "text": [
      "{'name': 'Raihan', 'course': ['Python', 'C', 'Java']}\n",
      "{'name': 'Raihan'}\n"
     ]
    }
   ],
   "source": [
    "# Example_04: del(\"key\")\n",
    "# deleted only the key-value in the dictionary\n",
    "\n",
    "print(dic_02) \n",
    "\n",
    "# deleted course key-value\n",
    "\n",
    "del dic_02[\"course\"]\n",
    "\n",
    "print(dic_02)"
   ]
  },
  {
   "cell_type": "markdown",
   "id": "811291c0",
   "metadata": {},
   "source": [
    "### 6. Common Methods."
   ]
  },
  {
   "cell_type": "code",
   "execution_count": 21,
   "id": "80ec5eae",
   "metadata": {},
   "outputs": [
    {
     "name": "stdout",
     "output_type": "stream",
     "text": [
      "{'learning_rate': 0.12, 'batch_size': 64, 'num_ephoch': 35, 'optimizer': 'adam'}\n",
      "dict_keys(['learning_rate', 'batch_size', 'num_ephoch', 'optimizer'])\n"
     ]
    }
   ],
   "source": [
    "# Method_01: dict.keys()\n",
    "# Return all keys in the dict\n",
    "\n",
    "print(params)\n",
    "\n",
    "keys = params.keys()\n",
    "\n",
    "print(keys)"
   ]
  },
  {
   "cell_type": "code",
   "execution_count": 22,
   "id": "4772a74a",
   "metadata": {},
   "outputs": [
    {
     "name": "stdout",
     "output_type": "stream",
     "text": [
      "{'learning_rate': 0.12, 'batch_size': 64, 'num_ephoch': 35, 'optimizer': 'adam'}\n",
      "dict_values([0.12, 64, 35, 'adam'])\n"
     ]
    }
   ],
   "source": [
    "# Method_02: dic.values()\n",
    "# Return all values in the dic\n",
    "\n",
    "print(params)\n",
    "\n",
    "print(params.values())\n"
   ]
  },
  {
   "cell_type": "code",
   "execution_count": 24,
   "id": "764f50e8",
   "metadata": {},
   "outputs": [
    {
     "name": "stdout",
     "output_type": "stream",
     "text": [
      "{'learning_rate': 0.12, 'batch_size': 64, 'num_ephoch': 35, 'optimizer': 'adam'}\n",
      "dict_items([('learning_rate', 0.12), ('batch_size', 64), ('num_ephoch', 35), ('optimizer', 'adam')])\n"
     ]
    }
   ],
   "source": [
    "# Method_03: dic.items()\n",
    "# Return all key-values pairs in the dic \n",
    "\n",
    "print(params)\n",
    "items = params.items()\n",
    "print(items)\n"
   ]
  },
  {
   "cell_type": "code",
   "execution_count": 27,
   "id": "96408760",
   "metadata": {},
   "outputs": [
    {
     "name": "stdout",
     "output_type": "stream",
     "text": [
      "{'learning_rate': 0.12, 'batch_size': 64, 'num_ephoch': 35, 'optimizer': 'adam'}\n",
      "0.12\n"
     ]
    }
   ],
   "source": [
    "# Method_04: dic.get(\"key\")\n",
    "\n",
    "# Return all values of the given key in the dic if the key is not memeber of the dict then return it's default values (Null) and we also customize the default value.\n",
    "\n",
    "# Example_01\n",
    "\n",
    "print(params)\n",
    "\n",
    "value_01 = params.get(\"learning_rate\")\n",
    "\n",
    "print(value_01)\n"
   ]
  },
  {
   "cell_type": "code",
   "execution_count": 29,
   "id": "6c4d2842",
   "metadata": {},
   "outputs": [
    {
     "name": "stdout",
     "output_type": "stream",
     "text": [
      "{'learning_rate': 0.12, 'batch_size': 64, 'num_ephoch': 35, 'optimizer': 'adam'}\n",
      "None\n"
     ]
    }
   ],
   "source": [
    "## Example_02:  if the key is not present of the dictionary \n",
    "\n",
    "print(params)\n",
    "\n",
    "remdom_value = params.get(\"Bangla\")\n",
    "\n",
    "print(remdom_value)\n",
    "\n",
    "# Note : if the key is not memeber of the dictioanry then it return the defautl value which is Null."
   ]
  },
  {
   "cell_type": "code",
   "execution_count": 32,
   "id": "e5bf5801",
   "metadata": {},
   "outputs": [
    {
     "name": "stdout",
     "output_type": "stream",
     "text": [
      "{'learning_rate': 0.12, 'batch_size': 64, 'num_ephoch': 35, 'optimizer': 'adam'}\n",
      "Not available\n"
     ]
    }
   ],
   "source": [
    "# Example_03: Customize the default value\n",
    "print(params)\n",
    "\n",
    "customize_mess = params.get(\"accuracy test\",\"Not available\")\n",
    "\n",
    "print(customize_mess)\n",
    "\n",
    "# where if the accuracy test keys is not present then params dictionary then it return Not available message"
   ]
  },
  {
   "cell_type": "markdown",
   "id": "d2d42046",
   "metadata": {},
   "source": [
    "#### we can access dictionary values using dic[\"Key\"] and dic.get(\"Key\") method.\n",
    "\n",
    "- Q.N: What is the difference between dic[\"Key\"] and dic.get(\"Key\") method to acccess the dictionary values\n",
    "\n",
    "- Answer:\n",
    "    - for dic[\"Key\"]:  \n",
    "        - if the key is not member of the dic then it generate errors (KeyError) and interpreter can't go to it's below code.\n",
    "        \n",
    "\n",
    "    - for dic.get(\"Key\") Method:\n",
    "        - if the key is not present of the dic then it return it's default value which is null but it's can't generate any errors message and interpreter easily go to the below code and execuate the code.\n",
    "\n",
    "        - Mainly use when we don't konw the keys are present or not in the dictionary."
   ]
  },
  {
   "cell_type": "code",
   "execution_count": 36,
   "id": "abea45bd",
   "metadata": {},
   "outputs": [
    {
     "name": "stdout",
     "output_type": "stream",
     "text": [
      "{'learning_rate': 0.12, 'batch_size': 64, 'num_ephoch': 35, 'optimizer': 'adam'}\n",
      "adam\n"
     ]
    },
    {
     "ename": "KeyError",
     "evalue": "'Accurary'",
     "output_type": "error",
     "traceback": [
      "\u001b[31m---------------------------------------------------------------------------\u001b[39m",
      "\u001b[31mKeyError\u001b[39m                                  Traceback (most recent call last)",
      "\u001b[36mCell\u001b[39m\u001b[36m \u001b[39m\u001b[32mIn[36]\u001b[39m\u001b[32m, line 11\u001b[39m\n\u001b[32m      7\u001b[39m \u001b[38;5;28mprint\u001b[39m(params[\u001b[33m\"\u001b[39m\u001b[33moptimizer\u001b[39m\u001b[33m\"\u001b[39m])\n\u001b[32m      9\u001b[39m \u001b[38;5;66;03m# if the key is not memeber of the params\u001b[39;00m\n\u001b[32m---> \u001b[39m\u001b[32m11\u001b[39m \u001b[38;5;28mprint\u001b[39m(\u001b[43mparams\u001b[49m\u001b[43m[\u001b[49m\u001b[33;43m\"\u001b[39;49m\u001b[33;43mAccurary\u001b[39;49m\u001b[33;43m\"\u001b[39;49m\u001b[43m]\u001b[49m)\n\u001b[32m     13\u001b[39m \u001b[38;5;28mprint\u001b[39m(\u001b[33m\"\u001b[39m\u001b[33msome important and use work\u001b[39m\u001b[33m\"\u001b[39m)\n",
      "\u001b[31mKeyError\u001b[39m: 'Accurary'"
     ]
    }
   ],
   "source": [
    "# Example_01: dic[\"Key\"]\n",
    "\n",
    "print(params)\n",
    "\n",
    "# access the key is memeber of the params\n",
    "\n",
    "print(params[\"optimizer\"])\n",
    "\n",
    "# if the key is not memeber of the params\n",
    "\n",
    "print(params[\"Accurary\"])  # Gernerate Errors.\n",
    "\n",
    "print(\"some important and use work\")  # interpreter can't come here"
   ]
  },
  {
   "cell_type": "code",
   "execution_count": 43,
   "id": "b7a22d7d",
   "metadata": {},
   "outputs": [
    {
     "name": "stdout",
     "output_type": "stream",
     "text": [
      "{'learning_rate': 0.12, 'batch_size': 64, 'num_ephoch': 35, 'optimizer': 'adam'}\n",
      "adam\n",
      "None\n",
      "some important and use work\n"
     ]
    }
   ],
   "source": [
    "# Example_02: dic.get[\"Key\"]\n",
    "\n",
    "print(params)\n",
    "\n",
    "# Access the present key\n",
    "print(params.get(\"optimizer\"))\n",
    "\n",
    "# if the key is not memeber of the params\n",
    "\n",
    "print(params.get(\"Accurary\"))  # Gernerate Errors.\n",
    "\n",
    "print(\"some important and use work\")  # interpreter can't come here\n"
   ]
  },
  {
   "cell_type": "code",
   "execution_count": 52,
   "id": "11719f9a",
   "metadata": {},
   "outputs": [
    {
     "name": "stdout",
     "output_type": "stream",
     "text": [
      "{'learning_rate': 0.05, 'batch_size': 64, 'num_ephoch': 50, 'optimizer': 'adam'}\n"
     ]
    }
   ],
   "source": [
    "# Example_01: creating dictionaries\n",
    "\n",
    "params = {\n",
    "    \"learning_rate\": 0.05,\n",
    "    \"batch_size\"  : 64,\n",
    "    \"num_ephoch\"  : 50,\n",
    "    'optimizer': 'adam'\n",
    "}\n",
    "\n",
    "print(params)"
   ]
  },
  {
   "cell_type": "code",
   "execution_count": 53,
   "id": "f58c831d",
   "metadata": {},
   "outputs": [
    {
     "name": "stdout",
     "output_type": "stream",
     "text": [
      "{'learning_rate': 0.05, 'batch_size': 64, 'num_ephoch': 50, 'optimizer': 'adam'}\n",
      "{'learning_rate': 0.05, 'num_ephoch': 50, 'optimizer': 'adam'}\n"
     ]
    }
   ],
   "source": [
    "# Method_05: dic.pop(\"key\")\n",
    "# Remove and return the key value\n",
    "\n",
    "# Example_01:\n",
    "print(params)\n",
    "\n",
    "remove_return_batch_size = params.pop(\"batch_size\")\n",
    "\n",
    "print(params)\n"
   ]
  },
  {
   "cell_type": "code",
   "execution_count": 54,
   "id": "f8eaf530",
   "metadata": {},
   "outputs": [
    {
     "name": "stdout",
     "output_type": "stream",
     "text": [
      "64\n"
     ]
    }
   ],
   "source": [
    "print(remove_return_batch_size)"
   ]
  },
  {
   "cell_type": "code",
   "execution_count": 57,
   "id": "e6277643",
   "metadata": {},
   "outputs": [
    {
     "name": "stdout",
     "output_type": "stream",
     "text": [
      "{'learning_rate': 0.05, 'num_ephoch': 50, 'optimizer': 'adam'}\n",
      "{'learning_rate': 0.05, 'num_ephoch': 50, 'optimizer': 'adam'}\n",
      "Not Found\n"
     ]
    }
   ],
   "source": [
    "# Method_05: dic.pop(\"key\")\n",
    "# Remove and return the key value and if the key is not member of the dic then it's return default value or KeyErros and we customize this default vlaue\n",
    "\n",
    "# Example_02:\n",
    "print(params)\n",
    "\n",
    "remove_return_batch_size = params.pop(\"batch_size\", \"Not Found\")\n",
    "\n",
    "print(params)\n",
    "\n",
    "print(remove_return_batch_size)\n"
   ]
  },
  {
   "cell_type": "markdown",
   "id": "040ab1e8",
   "metadata": {},
   "source": [
    "#### The key difference between dic.get(\"Key\") and dic.pop(\"key\") \n",
    "\n",
    "- dic.get(\"Key\") : access the key value and if the key is not present the it return the default value. \n",
    "\n",
    "- dic.pop(\"Key\") : remove and return the key value and if the key is not present then it return it's default value or error message."
   ]
  },
  {
   "cell_type": "code",
   "execution_count": 60,
   "id": "9f6ff8d4",
   "metadata": {},
   "outputs": [
    {
     "name": "stdout",
     "output_type": "stream",
     "text": [
      "{'learning_rate': 0.05, 'num_ephoch': 50, 'optimizer': 'adam'}\n",
      "{'learning_rate': 0.05, 'num_ephoch': 50}\n",
      "('optimizer', 'adam')\n"
     ]
    }
   ],
   "source": [
    "# Method_05: dic.popitem()\n",
    "# Remove and return the last value of the dictionary.\n",
    "# Example_02:\n",
    "print(params)\n",
    "\n",
    "last_item = params.popitem()\n",
    "\n",
    "print(params)\n",
    "\n",
    "print(last_item)\n"
   ]
  },
  {
   "cell_type": "code",
   "execution_count": 63,
   "id": "4c3d76fa",
   "metadata": {},
   "outputs": [
    {
     "name": "stdout",
     "output_type": "stream",
     "text": [
      "{'name': 'Raihan'}\n",
      "{}\n"
     ]
    }
   ],
   "source": [
    "# Method_05: dic.clear()\n",
    "# Remove all the items in the dictionary.\n",
    "# return the empty or null dictionary.\n",
    "\n",
    "print(dic_02)\n",
    "\n",
    "dic_02.clear()  # clear all the items(key-value) inside the dic_02 dictionary\n",
    "\n",
    "print(dic_02)"
   ]
  },
  {
   "cell_type": "markdown",
   "id": "0b499632",
   "metadata": {},
   "source": [
    "### 7. Membership Opration"
   ]
  },
  {
   "cell_type": "code",
   "execution_count": 65,
   "id": "bddbb2ae",
   "metadata": {},
   "outputs": [
    {
     "name": "stdout",
     "output_type": "stream",
     "text": [
      "{'learning_rate': 0.05, 'num_ephoch': 50}\n",
      "True\n"
     ]
    }
   ],
   "source": [
    "# Example_01: Membership opration\n",
    "# Return the boolean values(True or False)\n",
    "\n",
    "print(params)\n",
    "\n",
    "if \"num_ephoch\" in params:\n",
    "    print(True)\n",
    "else:\n",
    "    print(False)\n",
    "\n",
    "# Note: if the key is present then it's return True otherwise False"
   ]
  },
  {
   "cell_type": "code",
   "execution_count": 66,
   "id": "4435d94b",
   "metadata": {},
   "outputs": [
    {
     "name": "stdout",
     "output_type": "stream",
     "text": [
      "False\n"
     ]
    }
   ],
   "source": [
    "# Example_02: Membership opration\n",
    "\n",
    "print(\"adam\" in params)"
   ]
  },
  {
   "cell_type": "markdown",
   "id": "764be7aa",
   "metadata": {},
   "source": [
    "### 8. Iteration over Dictionaries."
   ]
  },
  {
   "cell_type": "code",
   "execution_count": 68,
   "id": "2b0a1203",
   "metadata": {},
   "outputs": [
    {
     "name": "stdout",
     "output_type": "stream",
     "text": [
      "{'learning_rate': 0.05, 'batch_size': 64, 'num_ephoch': 50, 'optimizer': 'adam'}\n",
      "Removed: optimizer - adam\n",
      "{'learning_rate': 0.05, 'batch_size': 64, 'num_ephoch': 50}\n",
      "Removed: num_ephoch - 50\n",
      "{'learning_rate': 0.05, 'batch_size': 64}\n",
      "Removed: batch_size - 64\n",
      "{'learning_rate': 0.05}\n",
      "Removed: learning_rate - 0.05\n",
      "{}\n"
     ]
    }
   ],
   "source": [
    "# Example_01: creating dictionaries\n",
    "\n",
    "params = {\n",
    "    \"learning_rate\": 0.05,\n",
    "    \"batch_size\"  : 64,\n",
    "    \"num_ephoch\"  : 50,\n",
    "    'optimizer': 'adam'\n",
    "}\n",
    "\n",
    "print(params)\n",
    "\n",
    "# iteration over dictionary using while loop\n",
    "\n",
    "while params:\n",
    "    key, value = params.popitem()\n",
    "    print(f\"Removed: {key} - {value}\")\n",
    "\n",
    "    print(params)"
   ]
  },
  {
   "cell_type": "code",
   "execution_count": null,
   "id": "e4948a90",
   "metadata": {},
   "outputs": [],
   "source": [
    "# Explain the above code\n",
    "\n",
    "''' \n",
    "params = {'learning_rate': 0.05, 'batch_size': 64, 'num_ephoch': 50, 'optimizer': 'adam'}\n",
    "\n",
    "1st iteration of while loop:\n",
    "-------------------------------\n",
    "\n",
    "- while parmas:  # here use single condition (so we know Expects zero or False all conditon is True )\n",
    "\n",
    "    - first work inside while loop:\n",
    "        perform popitem opration and store 1st key and value into key and value variables and print them.\n",
    "        \n",
    "        key = learning_rate\n",
    "        value =  0.05\n",
    "\n",
    "        output: learning_rate  - 0.05\n",
    "    \n",
    "    - second work inside while loop:\n",
    "        display params  \n",
    "        {'batch_size': 64, 'num_ephoch': 50, 'optimizer': 'adam'}\n",
    "\n",
    "\n",
    "After 1st iteration params:\n",
    " {'batch_size': 64, 'num_ephoch': 50, 'optimizer': 'adam'}\n",
    "\n",
    "\n",
    "2nd iteration of while loop:\n",
    "------------------------------\n",
    "\n",
    "- while parmas:  # here use single condition (so we know Expects zero or False all conditon is True )\n",
    "\n",
    "    - first work inside while loop:\n",
    "        perform popitem opration and store 2nd key and value into key and value variables and print them.\n",
    "        \n",
    "        key = batch_size\n",
    "        value =  64\n",
    "\n",
    "        output: batch_size  - 64\n",
    "    \n",
    "    - second work inside while loop:\n",
    "        display params  \n",
    "        {'num_ephoch': 50, 'optimizer': 'adam'}\n",
    "\n",
    "\n",
    "After 2nd iteration params:\n",
    " {'num_ephoch': 50, 'optimizer': 'adam'}\n",
    "\n",
    "\n",
    " 3th iteration of while loop:\n",
    "------------------------------\n",
    "\n",
    "- while parmas:  # here use single condition (so we know Expects zero or False all conditon is True )\n",
    "\n",
    "    - first work inside while loop:\n",
    "        perform popitem opration and store 3th key and value into key and value variables and print them.\n",
    "        \n",
    "        key = num_ephoch\n",
    "        value =  50\n",
    "\n",
    "        output: num_ephoch  - 50\n",
    "    \n",
    "    - second work inside while loop:\n",
    "        display params  \n",
    "        {'optimizer': 'adam'}\n",
    "\n",
    "\n",
    "After 3th iteration params:\n",
    " {'optimizer': 'adam'}\n",
    "\n",
    "\n",
    "4th iteration of while loop:\n",
    "------------------------------\n",
    "\n",
    "- while parmas:  # here use single condition (so we know Expects zero or False all conditon is True )\n",
    "\n",
    "    - first work inside while loop:\n",
    "        perform popitem opration and store 4th key and value into key and value variables and print them.\n",
    "        \n",
    "        key = optimizer\n",
    "        value =  adam\n",
    "\n",
    "        output: optimizer - adam\n",
    "    \n",
    "    - second work inside while loop:\n",
    "        display params  \n",
    "        {}\n",
    "\n",
    "\n",
    "After 4th iteration params:\n",
    " {}\n",
    "\n",
    "54th iteration of while loop:\n",
    "------------------------------\n",
    "\n",
    "- while parmas:  # here use single condition (so we know Expects zero or False all conditon is True )\n",
    "    - condition is False and out of the while loop\n",
    "\n",
    "'''"
   ]
  },
  {
   "cell_type": "code",
   "execution_count": 80,
   "id": "2aa56be0",
   "metadata": {},
   "outputs": [
    {
     "name": "stdout",
     "output_type": "stream",
     "text": [
      "learning_rate - 0.05 \n",
      "batch_size - 64 \n",
      "num_ephoch - 50 \n",
      "optimizer - adam \n"
     ]
    }
   ],
   "source": [
    "# Example_02: iteration over dictionary using for loop\n",
    "\n",
    "params = {\n",
    "    \"learning_rate\": 0.05,\n",
    "    \"batch_size\"  : 64,\n",
    "    \"num_ephoch\"  : 50,\n",
    "    'optimizer': 'adam'\n",
    "}\n",
    "\n",
    "\n",
    "for kys, val in params.items():\n",
    "       print(f\"{kys} - {val} \")"
   ]
  },
  {
   "cell_type": "markdown",
   "id": "25d497a6",
   "metadata": {},
   "source": [
    "### 9. Compare list and Dictionaries speeds."
   ]
  },
  {
   "cell_type": "code",
   "execution_count": null,
   "id": "26b0bc71",
   "metadata": {},
   "outputs": [
    {
     "name": "stdout",
     "output_type": "stream",
     "text": [
      "1000000\n",
      "999999\n",
      "999999\n"
     ]
    }
   ],
   "source": [
    "# Example_01: To find the last element of list and dictionary\n",
    "\n",
    "my_lst = []\n",
    "\n",
    "my_dic = {}\n",
    "\n",
    "# store big amount of values\n",
    "\n",
    "for i in range(1000000):\n",
    "    my_lst.append(i)\n",
    "\n",
    "    my_dic[i] = i\n",
    "\n",
    "# To check the length for how many items inside the both\n",
    "\n",
    "# for list\n",
    "\n",
    "# length of list\n",
    "\n",
    "length = len(my_lst)\n",
    "\n",
    "print(length)\n",
    "\n",
    "# last idx of the list\n",
    "\n",
    "last_idx = my_lst[length-1] \n",
    "\n",
    "print(last_idx)\n",
    "\n",
    "# if we want to access the last element of the list\n",
    "\n",
    "print(my_lst[last_idx])\n",
    "\n"
   ]
  },
  {
   "cell_type": "code",
   "execution_count": 24,
   "id": "93d41645",
   "metadata": {},
   "outputs": [
    {
     "name": "stdout",
     "output_type": "stream",
     "text": [
      "1000000\n",
      "999999\n",
      "999999\n"
     ]
    }
   ],
   "source": [
    "# for dict\n",
    "length = len(my_dic)\n",
    "\n",
    "print(length)\n",
    "\n",
    "# last key of the list\n",
    "\n",
    "last_key = my_dic[length-1]   # why length - 1 : because here key start with 0 that's way length-1\n",
    "\n",
    "print(last_key)\n",
    "\n",
    "# if we want to access the last element of the dict\n",
    "\n",
    "print(my_dic[last_key])\n",
    "\n"
   ]
  },
  {
   "cell_type": "code",
   "execution_count": null,
   "id": "363948a5",
   "metadata": {},
   "outputs": [
    {
     "name": "stdout",
     "output_type": "stream",
     "text": [
      "Do Work\n",
      "Last list element:  999999\n",
      "To access last element list Needed time:  0.0009982585906982422\n"
     ]
    }
   ],
   "source": [
    "# To import time to check who is faster/lower\n",
    "\n",
    "# Example_01: for list to access last element require(need) time\n",
    "import time\n",
    "\n",
    "start_time = time.time()   # calculate the current time\n",
    "\n",
    "print(\"Do Work\")\n",
    "\n",
    "print(\"Last list element: \", my_lst[last_idx])\n",
    "\n",
    "end_time = time.time()\n",
    "\n",
    "print(\"To access last element list Needed time: \", end_time - start_time)\n"
   ]
  },
  {
   "cell_type": "code",
   "execution_count": 27,
   "id": "79e8d276",
   "metadata": {},
   "outputs": [
    {
     "name": "stdout",
     "output_type": "stream",
     "text": [
      "Do Work\n",
      "Last dict element:  999999\n",
      "To access last element dict Needed time:  0.0\n"
     ]
    }
   ],
   "source": [
    "\n",
    "# Example_02: for dict to access last element require(need) time\n",
    "import time\n",
    "\n",
    "start_time = time.time()   # calculate the current time\n",
    "\n",
    "print(\"Do Work\")\n",
    "\n",
    "print(\"Last dict element: \", my_dic[last_key])\n",
    "\n",
    "end_time = time.time()\n",
    "\n",
    "print(\"To access last element dict Needed time: \", end_time - start_time)\n"
   ]
  },
  {
   "cell_type": "markdown",
   "id": "e0f749e4",
   "metadata": {},
   "source": [
    "##### Note : as we can see that dictionary (0) require less time  to the list (0.0009982585906982422) to access the elements"
   ]
  },
  {
   "cell_type": "markdown",
   "id": "a3a58e70",
   "metadata": {},
   "source": [
    "### 10. Nested Dictionaries."
   ]
  },
  {
   "cell_type": "code",
   "execution_count": null,
   "id": "18b0b60b",
   "metadata": {},
   "outputs": [
    {
     "name": "stdout",
     "output_type": "stream",
     "text": [
      "{'model_1': {'Accurary': 99, 'less': 0.25}, 'model_2': {'Accurary': 95, 'less': 0.35}}\n",
      "{'Accurary': 99, 'less': 0.25}\n",
      "99\n",
      "0.35\n",
      "0.15\n"
     ]
    }
   ],
   "source": [
    "# dictionary inside another dictionaries\n",
    "\n",
    "result = {    # result = outter dict\n",
    "\n",
    "    \"model_1\": {    # model_01 = inner dict (nested)\n",
    "        \"Accurary\": 99,\n",
    "        \"less\" : 0.25\n",
    "    },\n",
    "\n",
    "    \"model_2\": {    # model_02 = inner dic (nested)\n",
    "        \"Accurary\": 95,\n",
    "        \"less\" : 0.35\n",
    "    }\n",
    "}\n",
    "\n",
    "print(result)\n",
    "\n",
    "# To access mode_01\n",
    "print(result[\"model_1\"])\n",
    "\n",
    "# To access mode_01 inside value\n",
    "\n",
    "print(result[\"model_1\"][\"Accurary\"])\n",
    "\n",
    "# similary for model_02 to access and modify the value \n",
    "\n",
    "# access of model_2 inside values\n",
    "print(result[\"model_2\"][\"less\"])\n",
    "\n",
    "# modify the model_02 inside values\n",
    "result[\"model_2\"][\"less\"] = 0.15\n",
    "\n",
    "print(result[\"model_2\"][\"less\"])\n"
   ]
  },
  {
   "cell_type": "markdown",
   "id": "298d15da",
   "metadata": {},
   "source": [
    "#### Iteration over Nested Dictionary"
   ]
  },
  {
   "cell_type": "code",
   "execution_count": null,
   "id": "2ad6a987",
   "metadata": {},
   "outputs": [
    {
     "name": "stdout",
     "output_type": "stream",
     "text": [
      "model_1 {'Accurary': 99, 'less': 0.25} \n",
      "model_2 {'Accurary': 95, 'less': 0.15} \n"
     ]
    }
   ],
   "source": [
    "\n",
    "for sub_dic in result.items():\n",
    "    for items in sub_dic:\n",
    "        print(items , end =\" \")\n",
    "    \n",
    "    print()\n",
    "    "
   ]
  },
  {
   "cell_type": "code",
   "execution_count": 58,
   "id": "626921d0",
   "metadata": {},
   "outputs": [
    {
     "name": "stdout",
     "output_type": "stream",
     "text": [
      "model_1 - {'Accurary': 99, 'less': 0.25}\n",
      "model_2 - {'Accurary': 95, 'less': 0.15}\n"
     ]
    }
   ],
   "source": [
    "# Example_02: Nested Dictionary\n",
    "for key,val in result.items():\n",
    "    print(f\"{key} - {val}\")"
   ]
  },
  {
   "cell_type": "code",
   "execution_count": 61,
   "id": "ba347421",
   "metadata": {},
   "outputs": [
    {
     "name": "stdout",
     "output_type": "stream",
     "text": [
      "Accurary - 99\n",
      "less - 0.25\n"
     ]
    }
   ],
   "source": [
    "# Example_03: Nested dict\n",
    "# only display model_01 keys-values\n",
    "\n",
    "for m1_key, m1_val in result[\"model_1\"].items():\n",
    "    print(f\"{m1_key} - {m1_val}\")"
   ]
  },
  {
   "cell_type": "markdown",
   "id": "d8c99ccd",
   "metadata": {},
   "source": [
    "### 11. Practical Examples."
   ]
  },
  {
   "cell_type": "code",
   "execution_count": 69,
   "id": "447e8f5f",
   "metadata": {},
   "outputs": [
    {
     "name": "stdout",
     "output_type": "stream",
     "text": [
      "{1: 1, 2: 2, 3: 3, 4: 4, 5: 5, 6: 6, 7: 7, 8: 8, 9: 9, 10: 10}\n",
      "sum of the total element:  55\n",
      "Total Element:  10\n",
      "Average : 5.5\n"
     ]
    }
   ],
   "source": [
    "# Example_01: given a list \n",
    "# lst = [1,2,3,4,5,6,7,8,9,10]  \n",
    "# you task to solve convert this list into dictionary and calcualte the average and total \n",
    "\n",
    "\n",
    "lst = [1,2,3,4,5,6,7,8,9,10]\n",
    "\n",
    "dic = {}\n",
    "\n",
    "# convert lst to dic\n",
    "for item in lst:\n",
    "    dic[item] = item\n",
    "\n",
    "print(dic)\n",
    "\n",
    "# calculate the sum\n",
    "sum = 0\n",
    "\n",
    "for val in dic.values():\n",
    "    sum += val\n",
    "print(\"sum of the total element: \", sum)\n",
    "\n",
    "# find the length of dic\n",
    "total_element = len(dic)\n",
    "print(\"Total Element: \",total_element)\n",
    "\n",
    "# calculate the average \n",
    "\n",
    "avg_dic = (sum)/total_element\n",
    "\n",
    "print(f\"Average : {avg_dic}\")\n",
    "\n"
   ]
  }
 ],
 "metadata": {
  "kernelspec": {
   "display_name": "venv",
   "language": "python",
   "name": "python3"
  },
  "language_info": {
   "codemirror_mode": {
    "name": "ipython",
    "version": 3
   },
   "file_extension": ".py",
   "mimetype": "text/x-python",
   "name": "python",
   "nbconvert_exporter": "python",
   "pygments_lexer": "ipython3",
   "version": "3.12.11"
  }
 },
 "nbformat": 4,
 "nbformat_minor": 5
}
