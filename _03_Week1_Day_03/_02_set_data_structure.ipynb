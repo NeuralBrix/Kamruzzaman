{
 "cells": [
  {
   "cell_type": "markdown",
   "id": "cdba1cad",
   "metadata": {},
   "source": [
    "## Topic : Set Data Structure in Python"
   ]
  },
  {
   "cell_type": "markdown",
   "id": "4589b94a",
   "metadata": {},
   "source": [
    "### OUTCOMES\n",
    "\n",
    "- 1. Introduction of sets.\n",
    "\n",
    "- 2. Creating sets.\n",
    "\n",
    "- 3. Sets Method\n",
    "\n",
    "- 4. Iteration over set\n",
    "\n",
    "- 5. Mathematical Operation\n",
    "\n",
    "- 6. Practical Example"
   ]
  },
  {
   "cell_type": "markdown",
   "id": "da8a6ffd",
   "metadata": {},
   "source": [
    "### 1. Introduction of sets.\n",
    "\n",
    "- Set is build-in data type in Python that Store collection of unique elements in unorder format."
   ]
  },
  {
   "cell_type": "markdown",
   "id": "0d9dc5f9",
   "metadata": {},
   "source": [
    "### 2. Creating sets"
   ]
  },
  {
   "cell_type": "code",
   "execution_count": null,
   "id": "511e53a3",
   "metadata": {},
   "outputs": [],
   "source": [
    "# Synatx of sets\n",
    "'''  \n",
    "set_name = {value1, value2 ,...}  # curly braces\n",
    "\n",
    "'''"
   ]
  },
  {
   "cell_type": "code",
   "execution_count": 6,
   "id": "8b4015b6",
   "metadata": {},
   "outputs": [
    {
     "name": "stdout",
     "output_type": "stream",
     "text": [
      "set()\n",
      "<class 'set'>\n"
     ]
    }
   ],
   "source": [
    "# Create empty set\n",
    "\n",
    "\n",
    "empty_set = set()  # curly braces\n",
    "\n",
    "print(empty_set)\n",
    "\n",
    "print(type(empty_set)) \n"
   ]
  },
  {
   "cell_type": "code",
   "execution_count": null,
   "metadata": {},
   "outputs": [
    {
     "name": "stdout",
     "output_type": "stream",
     "text": [
      "{70, 40, 10, 80, 50, 20, 60, 30}\n",
      "<class 'set'>\n"
     ]
    }
   ],
   "source": [
    "# example_01: Create set \n",
    "\n",
    "num_set = {10, 20, 30, 40, 50, 60, 70, 80}\n",
    "\n",
    "print(num_set)  # print into unorder format.\n",
    "\n",
    "print(type(num_set))"
   ]
  },
  {
   "cell_type": "code",
   "execution_count": null,
   "metadata": {},
   "outputs": [
    {
     "name": "stdout",
     "output_type": "stream",
     "text": [
      "{24, 'Python', 5.6, 'Kz'}\n"
     ]
    }
   ],
   "source": [
    "# Example_02: Creating set\n",
    "\n",
    "mix_set = {\"Kz\", 24, 5.6, \"Python\"}\n",
    "\n",
    "print(mix_set)\n"
   ]
  },
  {
   "cell_type": "code",
   "execution_count": null,
   "metadata": {},
   "outputs": [
    {
     "ename": "TypeError",
     "evalue": "unhashable type: 'list'",
     "output_type": "error",
     "traceback": [
      "\u001b[31m---------------------------------------------------------------------------\u001b[39m",
      "\u001b[31mTypeError\u001b[39m                                 Traceback (most recent call last)",
      "\u001b[36mCell\u001b[39m\u001b[36m \u001b[39m\u001b[32mIn[42]\u001b[39m\u001b[32m, line 3\u001b[39m\n\u001b[32m      1\u001b[39m \u001b[38;5;66;03m# Example_03: Try to store mutable data type values\u001b[39;00m\n\u001b[32m----> \u001b[39m\u001b[32m3\u001b[39m diff_data_set = {\u001b[33m\"\u001b[39m\u001b[33mKz\u001b[39m\u001b[33m\"\u001b[39m, \u001b[32m10\u001b[39m, [\u001b[32m2\u001b[39m,\u001b[32m3\u001b[39m,\u001b[32m5\u001b[39m]}\n\u001b[32m      5\u001b[39m \u001b[38;5;28mprint\u001b[39m(diff_data_set)  \u001b[38;5;66;03m# list is mutable data type \u001b[39;00m\n",
      "\u001b[31mTypeError\u001b[39m: unhashable type: 'list'"
     ]
    }
   ],
   "source": [
    "# Example_03: Create set for mutable data type values (list).\n",
    "\n",
    "diff_data_set = {\"Kz\", 10, [2,3,5]}\n",
    "\n",
    "print(diff_data_set)  # list is mutable data type "
   ]
  },
  {
   "cell_type": "code",
   "execution_count": null,
   "metadata": {},
   "outputs": [
    {
     "name": "stdout",
     "output_type": "stream",
     "text": [
      "{(2, 3, 5), 10, 'Kz'}\n"
     ]
    }
   ],
   "source": [
    "# Example_04: Create set for immutable date type values (tuple)\n",
    "\n",
    "diff_set = {\"Kz\", 10, (2,3,5)}\n",
    "\n",
    "print(diff_set)"
   ]
  },
  {
   "cell_type": "markdown",
   "id": "198be5b1",
   "metadata": {},
   "source": [
    "### 3. sets Methods"
   ]
  },
  {
   "cell_type": "code",
   "execution_count": null,
   "id": "78307218",
   "metadata": {},
   "outputs": [
    {
     "name": "stdout",
     "output_type": "stream",
     "text": [
      "{100, 70, 40, 10, 80, 50, 20, 60, 30}\n"
     ]
    }
   ],
   "source": [
    "# Method_01: set.add(element) \n",
    "# add the element in the sets\n",
    "\n",
    "my_set = {10, 20, 30, 40, 50, 60, 70, 80}\n",
    "\n",
    "my_set.add(100)\n",
    "\n",
    "print(my_set)  # Store in unorder format"
   ]
  },
  {
   "cell_type": "code",
   "execution_count": null,
   "id": "d6a50f14",
   "metadata": {},
   "outputs": [
    {
     "ename": "TypeError",
     "evalue": "'set' object is not callable",
     "output_type": "error",
     "traceback": [
      "\u001b[31m---------------------------------------------------------------------------\u001b[39m",
      "\u001b[31mTypeError\u001b[39m                                 Traceback (most recent call last)",
      "\u001b[36mCell\u001b[39m\u001b[36m \u001b[39m\u001b[32mIn[15]\u001b[39m\u001b[32m, line 3\u001b[39m\n\u001b[32m      1\u001b[39m \u001b[38;5;66;03m# example_02: set.add(element)\u001b[39;00m\n\u001b[32m----> \u001b[39m\u001b[32m3\u001b[39m \u001b[43mmy_set\u001b[49m\u001b[43m(\u001b[49m\u001b[32;43m10\u001b[39;49m\u001b[43m)\u001b[49m\n\u001b[32m      4\u001b[39m \u001b[38;5;28mprint\u001b[39m(my_set)  \n",
      "\u001b[31mTypeError\u001b[39m: 'set' object is not callable"
     ]
    }
   ],
   "source": [
    "# example_02: set.add(element)\n",
    "\n",
    "my_set(10)\n",
    "\n",
    "print(my_set)  # set can't add duplicate elements."
   ]
  },
  {
   "cell_type": "code",
   "execution_count": null,
   "id": "04524e5c",
   "metadata": {},
   "outputs": [
    {
     "name": "stdout",
     "output_type": "stream",
     "text": [
      "{100, 70, 10, 80, 50, 20, 60, 30}\n"
     ]
    }
   ],
   "source": [
    "#Method_02: set.remove(element)\n",
    "# remove the element in the sets\n",
    "\n",
    "# eg_01: set.remove(element)\n",
    "\n",
    "my_set.remove(40) \n",
    "\n",
    "print(my_set)"
   ]
  },
  {
   "cell_type": "code",
   "execution_count": null,
   "id": "baf9673b",
   "metadata": {},
   "outputs": [
    {
     "ename": "KeyError",
     "evalue": "40",
     "output_type": "error",
     "traceback": [
      "\u001b[31m---------------------------------------------------------------------------\u001b[39m",
      "\u001b[31mKeyError\u001b[39m                                  Traceback (most recent call last)",
      "\u001b[36mCell\u001b[39m\u001b[36m \u001b[39m\u001b[32mIn[17]\u001b[39m\u001b[32m, line 4\u001b[39m\n\u001b[32m      1\u001b[39m \u001b[38;5;66;03m# Example_02: set.remove(element)\u001b[39;00m\n\u001b[32m      2\u001b[39m \u001b[38;5;66;03m#  when we try to remove element that is not set memeber elements then it's generate errors.\u001b[39;00m\n\u001b[32m----> \u001b[39m\u001b[32m4\u001b[39m \u001b[43mmy_set\u001b[49m\u001b[43m.\u001b[49m\u001b[43mremove\u001b[49m\u001b[43m(\u001b[49m\u001b[32;43m40\u001b[39;49m\u001b[43m)\u001b[49m\n\u001b[32m      6\u001b[39m \u001b[38;5;28mprint\u001b[39m(my_set)\n",
      "\u001b[31mKeyError\u001b[39m: 40"
     ]
    }
   ],
   "source": [
    "# Example_02: set.remove(element)\n",
    "# if the element is not member of the set then it's generate errors (KeyError).\n",
    "\n",
    "my_set.remove(40)\n",
    "\n",
    "print(my_set)"
   ]
  },
  {
   "cell_type": "code",
   "execution_count": null,
   "id": "867a6023",
   "metadata": {},
   "outputs": [
    {
     "name": "stdout",
     "output_type": "stream",
     "text": [
      "{100, 70, 10, 80, 50, 20, 60, 30}\n",
      "{100, 10, 80, 50, 20, 60, 30}\n"
     ]
    }
   ],
   "source": [
    "#Method_02: set.discard(element)\n",
    "# remove the element in the sets if element in member.\n",
    "\n",
    "# eg_01: set.discard(element)\n",
    "print(my_set)\n",
    "\n",
    "my_set.discard(70)\n",
    "\n",
    "print(my_set)\n"
   ]
  },
  {
   "cell_type": "code",
   "execution_count": 20,
   "id": "ba654572",
   "metadata": {},
   "outputs": [
    {
     "name": "stdout",
     "output_type": "stream",
     "text": [
      "{100, 10, 80, 50, 20, 60, 30}\n",
      "{100, 10, 80, 50, 20, 60, 30}\n"
     ]
    }
   ],
   "source": [
    "# eg_02: set.discard(element)\n",
    "# if the element is not member then it's not generated error(KeyErrors).\n",
    "\n",
    "\n",
    "print(my_set)\n",
    "\n",
    "my_set.discard(70)\n",
    "\n",
    "print(my_set)\n"
   ]
  },
  {
   "cell_type": "code",
   "execution_count": 21,
   "id": "a112dfbd",
   "metadata": {},
   "outputs": [
    {
     "name": "stdout",
     "output_type": "stream",
     "text": [
      "100\n",
      "{10, 80, 50, 20, 60, 30}\n"
     ]
    }
   ],
   "source": [
    "# Method_03: set.pop()\n",
    "\n",
    "# Remove and Return random element in the set.\n",
    "\n",
    "rand_element = my_set.pop()\n",
    "\n",
    "print(rand_element)\n",
    "\n",
    "print(my_set)"
   ]
  },
  {
   "cell_type": "code",
   "execution_count": null,
   "id": "49b127f4",
   "metadata": {},
   "outputs": [
    {
     "name": "stdout",
     "output_type": "stream",
     "text": [
      "set()\n"
     ]
    },
    {
     "ename": "KeyError",
     "evalue": "'pop from an empty set'",
     "output_type": "error",
     "traceback": [
      "\u001b[31m---------------------------------------------------------------------------\u001b[39m",
      "\u001b[31mKeyError\u001b[39m                                  Traceback (most recent call last)",
      "\u001b[36mCell\u001b[39m\u001b[36m \u001b[39m\u001b[32mIn[23]\u001b[39m\u001b[32m, line 7\u001b[39m\n\u001b[32m      3\u001b[39m empty_set = \u001b[38;5;28mset\u001b[39m()\n\u001b[32m      5\u001b[39m \u001b[38;5;28mprint\u001b[39m(empty_set)\n\u001b[32m----> \u001b[39m\u001b[32m7\u001b[39m rand_element = \u001b[43mempty_set\u001b[49m\u001b[43m.\u001b[49m\u001b[43mpop\u001b[49m\u001b[43m(\u001b[49m\u001b[43m)\u001b[49m\n\u001b[32m      9\u001b[39m \u001b[38;5;28mprint\u001b[39m(rand_element)\n",
      "\u001b[31mKeyError\u001b[39m: 'pop from an empty set'"
     ]
    }
   ],
   "source": [
    "# when we try to pop an element for empty set then it's generated error (KeyError)\n",
    "\n",
    "empty_set = set()\n",
    "\n",
    "print(empty_set)\n",
    "\n",
    "rand_element = empty_set.pop()\n",
    "\n",
    "print(rand_element)"
   ]
  },
  {
   "cell_type": "code",
   "execution_count": null,
   "id": "5770f649",
   "metadata": {},
   "outputs": [
    {
     "name": "stdout",
     "output_type": "stream",
     "text": [
      "{10, 80, 50, 20, 60, 30}\n",
      "set()\n"
     ]
    }
   ],
   "source": [
    "# Method_04 : set.clear()\n",
    "\n",
    "# clear all the elements inside the set\n",
    "\n",
    "print(my_set)\n",
    "\n",
    "my_set.clear()\n",
    "\n",
    "print(my_set)  # this is empty set"
   ]
  },
  {
   "cell_type": "markdown",
   "id": "26a00591",
   "metadata": {},
   "source": [
    "### 4. Iteration over set"
   ]
  },
  {
   "cell_type": "code",
   "execution_count": 29,
   "id": "547160c5",
   "metadata": {},
   "outputs": [
    {
     "name": "stdout",
     "output_type": "stream",
     "text": [
      "70\n",
      "40\n",
      "10\n",
      "80\n",
      "50\n",
      "20\n",
      "60\n",
      "30\n"
     ]
    }
   ],
   "source": [
    "# Iteration over set\n",
    "my_set = {10, 20, 30, 40, 50, 60, 70, 80}\n",
    "\n",
    "for item in my_set:\n",
    "    print(item)"
   ]
  },
  {
   "cell_type": "code",
   "execution_count": 30,
   "id": "bf2af23a",
   "metadata": {},
   "outputs": [
    {
     "name": "stdout",
     "output_type": "stream",
     "text": [
      "{1, 2, 3, 4, 5, 6, 7, 8, 9, 10}\n"
     ]
    }
   ],
   "source": [
    "# create an empty set then add some elements\n",
    "\n",
    "emp_set = set()\n",
    "\n",
    "for item in range(1,11):\n",
    "    emp_set.add(item)\n",
    "\n",
    "print(emp_set)"
   ]
  },
  {
   "cell_type": "markdown",
   "id": "56b1e339",
   "metadata": {},
   "source": [
    "### 5. Mathematical Operation"
   ]
  },
  {
   "cell_type": "code",
   "execution_count": 31,
   "id": "c9049a39",
   "metadata": {},
   "outputs": [
    {
     "name": "stdout",
     "output_type": "stream",
     "text": [
      "{70, 40, 10, 80, 50, 20, 90, 60, 30}\n"
     ]
    }
   ],
   "source": [
    "# 1. union: set1.union(set2)\n",
    "\n",
    "# combine all elements except duplicate.\n",
    "\n",
    "num1 = {10, 20, 30, 40, 50, 60}\n",
    "\n",
    "num2 = {40, 50, 60, 70, 80, 90}\n",
    "\n",
    "all_unique_element = num1.union(num2)\n",
    "\n",
    "print(all_unique_element)"
   ]
  },
  {
   "cell_type": "code",
   "execution_count": null,
   "id": "6e57d883",
   "metadata": {},
   "outputs": [
    {
     "name": "stdout",
     "output_type": "stream",
     "text": [
      "{40, 50, 60}\n"
     ]
    }
   ],
   "source": [
    "# 2. intersection: set2.intersection(set2)\n",
    "\n",
    "# Return only common elements \n",
    "\n",
    "common_elements = num2.intersection(num1)\n",
    "\n",
    "print(common_elements)"
   ]
  },
  {
   "cell_type": "code",
   "execution_count": null,
   "id": "5aed11bf",
   "metadata": {},
   "outputs": [
    {
     "name": "stdout",
     "output_type": "stream",
     "text": [
      "num1 is : {50, 20, 40, 10, 60, 30}\n",
      "num2 is : {80, 50, 70, 40, 90, 60}\n",
      "Differnce is : {10, 20, 30}\n"
     ]
    }
   ],
   "source": [
    "#  3. difference operator\n",
    "# Remove the intersection elements and return the non-intersection elements \n",
    "\n",
    "print(f\"num1 is : {num1}\")\n",
    "print(f\"num2 is : {num2}\")\n",
    "\n",
    "diff_set = num1.difference(num2)\n",
    "\n",
    "print(f\"Differnce is : {diff_set}\")"
   ]
  },
  {
   "cell_type": "code",
   "execution_count": null,
   "id": "2fdd4b01",
   "metadata": {},
   "outputs": [
    {
     "name": "stdout",
     "output_type": "stream",
     "text": [
      "num1 is : {50, 20, 40, 10, 60, 30}\n",
      "num2 is : {80, 50, 70, 40, 90, 60}\n",
      "{70, 10, 80, 20, 90, 30}\n"
     ]
    }
   ],
   "source": [
    "# 4. symmetric differnce\n",
    "\n",
    "# Remove the intersection elements of the both sets and store both sets non-intersection elements.\n",
    "\n",
    "print(f\"num1 is : {num1}\")\n",
    "print(f\"num2 is : {num2}\")\n",
    "\n",
    "sym_diff = num1.symmetric_difference(num2)\n",
    "\n",
    "print(sym_diff)"
   ]
  },
  {
   "cell_type": "markdown",
   "id": "2b05dd76",
   "metadata": {},
   "source": [
    "### 6. Practical Example"
   ]
  },
  {
   "cell_type": "code",
   "execution_count": 41,
   "id": "9ca3f659",
   "metadata": {},
   "outputs": [
    {
     "name": "stdout",
     "output_type": "stream",
     "text": [
      "{1, 2, 3, 5, 6, 7, 8, 9, 10}\n"
     ]
    }
   ],
   "source": [
    "# Example_01: Given that an list\n",
    "# [1,2,3,1,5,6,2,3,9,10,5,5,6,7,8,5] print all the unique elements in this list\n",
    "\n",
    "# slove\n",
    "\n",
    "lst = [1,2,3,1,5,6,2,3,9,10,5,5,6,7,8,5]\n",
    "\n",
    "unique_element = set(lst)\n",
    "\n",
    "print(unique_element)\n"
   ]
  }
 ],
 "metadata": {
  "kernelspec": {
   "display_name": "venv",
   "language": "python",
   "name": "python3"
  },
  "language_info": {
   "codemirror_mode": {
    "name": "ipython",
    "version": 3
   },
   "file_extension": ".py",
   "mimetype": "text/x-python",
   "name": "python",
   "nbconvert_exporter": "python",
   "pygments_lexer": "ipython3",
   "version": "3.12.11"
  }
 },
 "nbformat": 4,
 "nbformat_minor": 5
}
