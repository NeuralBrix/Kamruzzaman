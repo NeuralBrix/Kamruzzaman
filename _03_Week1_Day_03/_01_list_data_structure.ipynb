{
 "cells": [
  {
   "cell_type": "markdown",
   "id": "5ede5ff2",
   "metadata": {},
   "source": [
    "### Topic: List Data Structure"
   ]
  },
  {
   "cell_type": "markdown",
   "id": "6f591e0d",
   "metadata": {},
   "source": [
    "#### OUTCOMES\n",
    "\n",
    "- 1. Introduction to list.\n",
    "\n",
    "- 2. Creating lists.\n",
    "\n",
    "- 3. lists Indexing\n",
    "  \n",
    "- 4. lists Slicing \n",
    "    \n",
    "- 5. Lists Method.\n",
    "\n",
    "- 6. Iteration over lists.\n",
    "\n",
    "- 7. List Comprehensions.\n",
    "\n",
    "- 8. Practical Example."
   ]
  },
  {
   "cell_type": "markdown",
   "id": "f3eb7456",
   "metadata": {},
   "source": [
    "### 1. Introduction to list."
   ]
  },
  {
   "cell_type": "markdown",
   "id": "75b9d69a",
   "metadata": {},
   "source": [
    "- list are ordered, mutable collection of items."
   ]
  },
  {
   "cell_type": "code",
   "execution_count": null,
   "id": "6d23bf0b",
   "metadata": {},
   "outputs": [],
   "source": [
    "# Syntax of list\n",
    "'''\n",
    "list_name = [item1, item2, ....]\n",
    "\n",
    "\n",
    "'''\n",
    "# List names follow the same pattern as variable names."
   ]
  },
  {
   "cell_type": "markdown",
   "id": "24cf3420",
   "metadata": {},
   "source": [
    "### 2. Creating lists"
   ]
  },
  {
   "cell_type": "code",
   "execution_count": 1,
   "id": "0787af36",
   "metadata": {},
   "outputs": [
    {
     "name": "stdout",
     "output_type": "stream",
     "text": [
      "[]\n",
      "<class 'list'>\n"
     ]
    }
   ],
   "source": [
    "# Create an empty list\n",
    "\n",
    "# first way\n",
    "lst = []\n",
    "\n",
    "print(lst)\n",
    "\n",
    "print(type(lst))"
   ]
  },
  {
   "cell_type": "code",
   "execution_count": 2,
   "id": "ebdb6a9c",
   "metadata": {},
   "outputs": [
    {
     "name": "stdout",
     "output_type": "stream",
     "text": [
      "[]\n",
      "<class 'list'>\n"
     ]
    }
   ],
   "source": [
    "# Second way\n",
    "empty_lst = list()\n",
    "\n",
    "print(empty_lst)\n",
    "\n",
    "print(type(empty_lst))"
   ]
  },
  {
   "cell_type": "code",
   "execution_count": null,
   "id": "a6aa412f",
   "metadata": {},
   "outputs": [
    {
     "name": "stdout",
     "output_type": "stream",
     "text": [
      "['Kz', 'Mehedi', 'Sakib', 'Rifat', 'Shanto', 'Sabbir', 'Sukanto']\n",
      "<class 'list'>\n"
     ]
    }
   ],
   "source": [
    "# Create string list\n",
    "\n",
    "name = [\"Kz\", \"Mehedi\", \"Sakib\", \"Rifat\", \"Shanto\", \"Sabbir\", \"Sukanto\"]\n",
    "\n",
    "print(name)\n",
    "\n",
    "print(type(name))"
   ]
  },
  {
   "cell_type": "code",
   "execution_count": 7,
   "id": "d4cc8cca",
   "metadata": {},
   "outputs": [
    {
     "name": "stdout",
     "output_type": "stream",
     "text": [
      "[10, 15, 20, 30, 40, 50, 60]\n",
      "<class 'list'>\n"
     ]
    }
   ],
   "source": [
    "# Create number list\n",
    "\n",
    "nums = [10, 15, 20, 30, 40, 50, 60]\n",
    "\n",
    "print(nums)\n",
    "\n",
    "print(type(nums))"
   ]
  },
  {
   "cell_type": "code",
   "execution_count": 8,
   "id": "0441782e",
   "metadata": {},
   "outputs": [
    {
     "name": "stdout",
     "output_type": "stream",
     "text": [
      "['Kz', 24, 5.6, 'ML Engineer', 999.99, True]\n",
      "<class 'list'>\n"
     ]
    }
   ],
   "source": [
    "# Create Mixed list\n",
    "\n",
    "student = [\"Kz\", 24, 5.6, \"ML Engineer\", 999.99, True]\n",
    "\n",
    "print(student)\n",
    "\n",
    "print(type(student))"
   ]
  },
  {
   "cell_type": "markdown",
   "id": "cedc96cc",
   "metadata": {},
   "source": [
    "### 3. lists Indexing\n",
    "- Access and modify the list items\n",
    "\n",
    "- list maintain 0-base indexing."
   ]
  },
  {
   "cell_type": "code",
   "execution_count": null,
   "id": "2f8a9fbf",
   "metadata": {},
   "outputs": [],
   "source": [
    "''' \n",
    "-------------------------------------------------\n",
    "| 0   |  1  |  2   |       3     |    4   |   5 |  <-- This is positive index.\n",
    "--------------------------------------------------\n",
    "[\"Kz\" , 24  ,  5.6  , \"ML Engineer\", 999.99, True]  # This is list items.\n",
    "---------------------------------------------------\n",
    "| -6 |  -5  |  -4 |       -3     |    -2   |   -1 |  <-- This is Negative index.\n",
    "---------------------------------------------------\n",
    "\n",
    "'''"
   ]
  },
  {
   "cell_type": "markdown",
   "id": "9d50aaee",
   "metadata": {},
   "source": [
    "#### >> Access list items"
   ]
  },
  {
   "cell_type": "code",
   "execution_count": 10,
   "id": "755cfeba",
   "metadata": {},
   "outputs": [
    {
     "name": "stdout",
     "output_type": "stream",
     "text": [
      "Kz\n",
      "5.6\n"
     ]
    }
   ],
   "source": [
    "# Access list items using positive idx\n",
    "\n",
    "student = [\"Kz\", 24, 5.6, \"ML Engineer\", 999.99, True]\n",
    "\n",
    "first_item = student[0]\n",
    "\n",
    "third_item = student[2]\n",
    "\n",
    "print(first_item)\n",
    "\n",
    "print(third_item)\n"
   ]
  },
  {
   "cell_type": "code",
   "execution_count": 11,
   "id": "7f32268d",
   "metadata": {},
   "outputs": [
    {
     "name": "stdout",
     "output_type": "stream",
     "text": [
      "True\n"
     ]
    }
   ],
   "source": [
    "# # Access list items using Negative idx\n",
    "# Negative idx start at the end.\n",
    "\n",
    "student = [\"Kz\", 24, 5.6, \"ML Engineer\", 999.99, True]\n",
    "\n",
    "last_item = student[-1]\n",
    "\n",
    "print(last_item)"
   ]
  },
  {
   "cell_type": "code",
   "execution_count": 12,
   "id": "fca33e20",
   "metadata": {},
   "outputs": [
    {
     "name": "stdout",
     "output_type": "stream",
     "text": [
      "5.6\n"
     ]
    }
   ],
   "source": [
    "# another example of Negative idx\n",
    "\n",
    "print(student[-4])"
   ]
  },
  {
   "cell_type": "markdown",
   "id": "87c417a6",
   "metadata": {},
   "source": [
    "#### >> modify the list item."
   ]
  },
  {
   "cell_type": "code",
   "execution_count": null,
   "id": "9f4905fe",
   "metadata": {},
   "outputs": [],
   "source": [
    "''' \n",
    "-------------------------------------------------\n",
    "| 0   |  1  |  2   |       3     |    4   |   5 |  <-- This is positive index.\n",
    "--------------------------------------------------\n",
    "[\"Kz\" , 24  ,  5.6  , \"ML Engineer\", 999.99, True]  # This is list items.\n",
    "---------------------------------------------------\n",
    "'''"
   ]
  },
  {
   "cell_type": "code",
   "execution_count": 17,
   "id": "7a4541f2",
   "metadata": {},
   "outputs": [
    {
     "name": "stdout",
     "output_type": "stream",
     "text": [
      "['Raihan', 20, 5.6, 'ML Engineer', 999.99, False]\n"
     ]
    }
   ],
   "source": [
    "#### modify the list single item using positive idx.\n",
    "\n",
    "student = [\"Kz\", 24, 5.6, \"ML Engineer\", 999.99, True]\n",
    "\n",
    "student[0] = \"Raihan\"\n",
    "\n",
    "student[1] = 20\n",
    "\n",
    "student[5] = False\n",
    "\n",
    "print(student)"
   ]
  },
  {
   "cell_type": "code",
   "execution_count": 20,
   "id": "23b95e98",
   "metadata": {},
   "outputs": [
    {
     "name": "stdout",
     "output_type": "stream",
     "text": [
      "['Kz', 26, 5.6, 'ML Engineer', 2500, True]\n"
     ]
    }
   ],
   "source": [
    "#### modify the list single item using Negative idx.\n",
    "\n",
    "student = [\"Kz\", 24, 5.6, \"ML Engineer\", 999.99, True]\n",
    "\n",
    "student[-2] = 2500\n",
    "\n",
    "student[-5] = 26\n",
    "\n",
    "print(student)\n",
    "\n",
    "\n"
   ]
  },
  {
   "cell_type": "markdown",
   "id": "a8268d05",
   "metadata": {},
   "source": [
    "### 4. lists Slicing \n",
    "\n",
    "- Access and modify the multiple items in lists"
   ]
  },
  {
   "cell_type": "code",
   "execution_count": 21,
   "id": "bc7433e1",
   "metadata": {},
   "outputs": [
    {
     "name": "stdout",
     "output_type": "stream",
     "text": [
      "[10, 20, 30, 40, 50, 60, 70, 80, 90, 100]\n",
      "<class 'list'>\n"
     ]
    }
   ],
   "source": [
    "nums = [10, 20, 30, 40, 50, 60, 70, 80, 90, 100]\n",
    "\n",
    "print(nums)\n",
    "\n",
    "print(type(nums))"
   ]
  },
  {
   "cell_type": "code",
   "execution_count": null,
   "id": "5a22457b",
   "metadata": {},
   "outputs": [],
   "source": [
    "''' \n",
    "-----------------------------------------------------------\n",
    "| 0  |  1  |  2  |  3   |  4   |  5 |  6 |  7  |  8 |  9  |        <-- This is positive index.\n",
    "------------------------------------------------------------\n",
    "[10  | 20  | 30  |  40  |  50  |  60 | 70 | 80 | 90 | 100 |        # This is list items.\n",
    "------------------------------------------------------------\n",
    "| -10|  -9 |  -8 |  -7  |  -6  |  -5 | -4 | -3  | -2 |  -1 |        <-- This is Negative index.\n",
    "-------------------------------------------------------------\n",
    "\n",
    "'''"
   ]
  },
  {
   "cell_type": "code",
   "execution_count": null,
   "id": "2d6c0dd8",
   "metadata": {},
   "outputs": [],
   "source": [
    "# Syntax of Slicing\n",
    "\n",
    "'''\n",
    "list [start_idx : end_idx: step_size ]\n",
    "\n",
    "here, \n",
    "   start_idx = 0 (By Default value)\n",
    "   \n",
    "   end_idx   = lenght of the list (Defalut value) and it is not include\n",
    "\n",
    "   step_size = 1 (By Defalut value)\n",
    "\n",
    "\n",
    "'''\n",
    "# Note : if we do not set the value for slicing idx then it is automatically calculation by using defalut values."
   ]
  },
  {
   "cell_type": "code",
   "execution_count": 22,
   "id": "c2a46cac",
   "metadata": {},
   "outputs": [
    {
     "name": "stdout",
     "output_type": "stream",
     "text": [
      "[10, 20, 30, 40, 50, 60]\n"
     ]
    }
   ],
   "source": [
    "# Access the items using slicing with positive idx\n",
    "\n",
    "nums = [10, 20, 30, 40, 50, 60, 70, 80, 90, 100]\n",
    "\n",
    "print(nums[0:6:1]) # here, 6 is Exclusive\n"
   ]
  },
  {
   "cell_type": "code",
   "execution_count": null,
   "id": "2854a0a0",
   "metadata": {},
   "outputs": [
    {
     "name": "stdout",
     "output_type": "stream",
     "text": [
      "[70, 80, 90, 100]\n"
     ]
    }
   ],
   "source": [
    "print(nums[6: : 1]) # empty end_idx means automatically count the length of list.(Defalut value)"
   ]
  },
  {
   "cell_type": "code",
   "execution_count": 26,
   "id": "df9b2d64",
   "metadata": {},
   "outputs": [
    {
     "name": "stdout",
     "output_type": "stream",
     "text": [
      "[10, 30, 50, 70, 90]\n"
     ]
    }
   ],
   "source": [
    "print(nums[::2])"
   ]
  },
  {
   "cell_type": "code",
   "execution_count": null,
   "id": "60aa8fd9",
   "metadata": {},
   "outputs": [],
   "source": [
    "# For nums[::2] \n",
    "''' \n",
    "how to calculate step size \n",
    "\n",
    "start_idx = 0 (by default)\n",
    "\n",
    "end_idx  = length of the list (by default) here it's 10. (length follow 1-base indexing).\n",
    "\n",
    "step_size = 0 + 2\n",
    "          = 2  print 2 idx item (for first iteration).\n",
    "\n",
    "    2nd time:\n",
    "           2 + 2\n",
    "          = 4  print 4 idx item \n",
    "\n",
    "   3th time:\n",
    "           4 + 2\n",
    "          = 6  print 6 idx item \n",
    "\n",
    "    4th time:\n",
    "           6 + 2\n",
    "          = 8  print 8 idx item \n",
    "\n",
    "    5th time:\n",
    "           8 + 2\n",
    "          = 10   # here 10 is the last idx. this is not include. so this will not print.      \n",
    "        \n",
    " so the ouput:\n",
    "0, 2, 4, 6, 8 . print only this idx values.\n",
    "\n",
    "'''"
   ]
  },
  {
   "cell_type": "code",
   "execution_count": null,
   "id": "90ecf95e",
   "metadata": {},
   "outputs": [
    {
     "name": "stdout",
     "output_type": "stream",
     "text": [
      "[10, 20, 30, 40, 50, 60, 70, 80, 90, 100]\n"
     ]
    }
   ],
   "source": [
    "nums = [10, 20, 30, 40, 50, 60, 70, 80, 90, 100]\n",
    "\n",
    "print(nums[:])  # print based on defaut idx values."
   ]
  },
  {
   "cell_type": "code",
   "execution_count": null,
   "id": "764166d4",
   "metadata": {},
   "outputs": [
    {
     "name": "stdout",
     "output_type": "stream",
     "text": [
      "[]\n"
     ]
    }
   ],
   "source": [
    "# Note:  Always start idx is smaller than the end idx when we deal with positive idx and if the step size is also positive.\n",
    "\n",
    "print(nums[9:1])"
   ]
  },
  {
   "cell_type": "code",
   "execution_count": null,
   "id": "f07c22e8",
   "metadata": {},
   "outputs": [],
   "source": [
    "''' \n",
    "------------------------------------------------------------\n",
    "[10  | 20  | 30  |  40  |  50  |  60 | 70 | 80 | 90 | 100 |        # This is list items.\n",
    "------------------------------------------------------------\n",
    "| -10|  -9 |  -8 |  -7  |  -6  |  -5 | -4 | -3  | -2 |  -1 |       <-- This is Negative index.\n",
    "-------------------------------------------------------------\n",
    "\n",
    "'''"
   ]
  },
  {
   "cell_type": "code",
   "execution_count": null,
   "id": "12ac62b5",
   "metadata": {},
   "outputs": [
    {
     "name": "stdout",
     "output_type": "stream",
     "text": [
      "[10, 20, 30, 40, 50, 60, 70, 80, 90]\n"
     ]
    }
   ],
   "source": [
    "# Access the items using slicing with Negative idx\n",
    "\n",
    "nums = [10, 20, 30, 40, 50, 60, 70, 80, 90, 100]\n",
    "\n",
    "print(nums[-10:-1:1])  # here, step size = 1 and it's positive"
   ]
  },
  {
   "cell_type": "code",
   "execution_count": 35,
   "id": "bc2c90a2",
   "metadata": {},
   "outputs": [
    {
     "name": "stdout",
     "output_type": "stream",
     "text": [
      "[]\n"
     ]
    }
   ],
   "source": [
    "# if the step is negative then\n",
    "\n",
    "print(nums[-10:-1:-1])  # here, step size = 1 and it's positive\n"
   ]
  },
  {
   "cell_type": "code",
   "execution_count": null,
   "id": "cfde1b51",
   "metadata": {},
   "outputs": [],
   "source": [
    "# Why the output is empty for nums[-10:-1:-1] this case\n",
    "\n",
    "''' \n",
    "Because \n",
    " start_idx = -10 (small idx)\n",
    "\n",
    " end_idx = = -1 (Bigger idx)\n",
    "\n",
    " step size = -1 (step is decrement)\n",
    "\n",
    " here, \n",
    "\n",
    " 1st iteration:\n",
    " --------------\n",
    "\n",
    " step_size = -10 - 1\n",
    "          = -11    # but our list(nums) -11 idx is not present. \n",
    "\n",
    "That way the output of the list is empty.\n",
    "'''"
   ]
  },
  {
   "cell_type": "code",
   "execution_count": 36,
   "id": "fb63c438",
   "metadata": {},
   "outputs": [
    {
     "name": "stdout",
     "output_type": "stream",
     "text": [
      "[100, 80, 60, 40]\n"
     ]
    }
   ],
   "source": [
    "# Access the items using slicing with Negative idx\n",
    "\n",
    "nums = [10, 20, 30, 40, 50, 60, 70, 80, 90, 100]\n",
    "\n",
    "print(nums[-1:-9:-2])  "
   ]
  },
  {
   "cell_type": "code",
   "execution_count": 39,
   "id": "4900fa66",
   "metadata": {},
   "outputs": [
    {
     "name": "stdout",
     "output_type": "stream",
     "text": [
      "[100, 90, 80, 70, 60, 50, 40, 30, 20, 10]\n"
     ]
    }
   ],
   "source": [
    "# Reverse the list using negative step size.\n",
    "print(nums[::-1])"
   ]
  },
  {
   "cell_type": "markdown",
   "id": "a2bd0b59",
   "metadata": {},
   "source": [
    "### 5. Lists Method."
   ]
  },
  {
   "cell_type": "code",
   "execution_count": 43,
   "id": "300b5f5f",
   "metadata": {},
   "outputs": [
    {
     "name": "stdout",
     "output_type": "stream",
     "text": [
      "['Apple', 'Mango', 'Banana', 'Cheery']\n"
     ]
    }
   ],
   "source": [
    "ban_fruits = [\"Apple\", \"Mango\", \"Banana\", \"Cheery\"]\n",
    "\n",
    "print(ban_fruits)"
   ]
  },
  {
   "cell_type": "markdown",
   "id": "234801ee",
   "metadata": {},
   "source": [
    "#### i. list.append(\"item\")\n",
    "- Add an item at the end of the list."
   ]
  },
  {
   "cell_type": "code",
   "execution_count": 44,
   "id": "c6060948",
   "metadata": {},
   "outputs": [
    {
     "name": "stdout",
     "output_type": "stream",
     "text": [
      "['Apple', 'Mango', 'Banana', 'Cheery', 'Lemon']\n"
     ]
    }
   ],
   "source": [
    "ban_fruits.append(\"Lemon\")\n",
    "\n",
    "print(ban_fruits)"
   ]
  },
  {
   "cell_type": "markdown",
   "id": "570aecfe",
   "metadata": {},
   "source": [
    "#### ii. list.insert(idx, \"item\")\n",
    "\n",
    "- Add item at specific index"
   ]
  },
  {
   "cell_type": "code",
   "execution_count": 45,
   "id": "6a544055",
   "metadata": {},
   "outputs": [
    {
     "name": "stdout",
     "output_type": "stream",
     "text": [
      "['Apple', 'Mango', 'Litchi', 'Banana', 'Cheery', 'Lemon']\n"
     ]
    }
   ],
   "source": [
    "ban_fruits.insert(2,\"Litchi\")\n",
    "\n",
    "print(ban_fruits)"
   ]
  },
  {
   "cell_type": "markdown",
   "id": "991cb379",
   "metadata": {},
   "source": [
    "#### iii. list.index(\"item\")\n",
    "\n",
    "- Return the item idx of the first occurance."
   ]
  },
  {
   "cell_type": "code",
   "execution_count": 47,
   "id": "01a0deb1",
   "metadata": {},
   "outputs": [
    {
     "name": "stdout",
     "output_type": "stream",
     "text": [
      "['Apple', 'Mango', 'Litchi', 'Banana', 'Cheery', 'Lemon']\n"
     ]
    }
   ],
   "source": [
    "print(ban_fruits)"
   ]
  },
  {
   "cell_type": "code",
   "execution_count": 50,
   "id": "a76981b1",
   "metadata": {},
   "outputs": [
    {
     "name": "stdout",
     "output_type": "stream",
     "text": [
      "4\n"
     ]
    }
   ],
   "source": [
    "idx_cheery = ban_fruits.index(\"Cheery\")\n",
    "\n",
    "print(idx_cheery)"
   ]
  },
  {
   "cell_type": "code",
   "execution_count": null,
   "id": "46393e47",
   "metadata": {},
   "outputs": [
    {
     "name": "stdout",
     "output_type": "stream",
     "text": [
      "Cheery\n"
     ]
    }
   ],
   "source": [
    "# Verify\n",
    "print(ban_fruits[4])"
   ]
  },
  {
   "cell_type": "code",
   "execution_count": 52,
   "id": "e5213682",
   "metadata": {},
   "outputs": [
    {
     "name": "stdout",
     "output_type": "stream",
     "text": [
      "['Apple', 'Mango', 'Litchi', 'Banana', 'Mango', 'Cheery', 'Lemon']\n"
     ]
    }
   ],
   "source": [
    "# Insert another item\n",
    "ban_fruits.insert(4,\"Mango\")\n",
    "\n",
    "print(ban_fruits)"
   ]
  },
  {
   "cell_type": "markdown",
   "id": "31ef6408",
   "metadata": {},
   "source": [
    "#### iv. list.count(\"Item\")\n",
    "\n",
    "- Count the item inside the list."
   ]
  },
  {
   "cell_type": "code",
   "execution_count": 53,
   "id": "e7158b11",
   "metadata": {},
   "outputs": [
    {
     "name": "stdout",
     "output_type": "stream",
     "text": [
      "2\n"
     ]
    }
   ],
   "source": [
    "print(ban_fruits.count(\"Mango\"))"
   ]
  },
  {
   "cell_type": "markdown",
   "id": "a0a8923f",
   "metadata": {},
   "source": [
    "#### v. list.remove(\"Item\")\n",
    "\n",
    "- Remove the item of first occurance that's inside the list."
   ]
  },
  {
   "cell_type": "code",
   "execution_count": 55,
   "id": "d45fe9d2",
   "metadata": {},
   "outputs": [
    {
     "name": "stdout",
     "output_type": "stream",
     "text": [
      "['Apple', 'Mango', 'Litchi', 'Banana', 'Mango', 'Cheery', 'Lemon']\n"
     ]
    }
   ],
   "source": [
    "print(ban_fruits)"
   ]
  },
  {
   "cell_type": "code",
   "execution_count": 56,
   "id": "0644adaa",
   "metadata": {},
   "outputs": [
    {
     "name": "stdout",
     "output_type": "stream",
     "text": [
      "['Apple', 'Litchi', 'Banana', 'Mango', 'Cheery', 'Lemon']\n"
     ]
    }
   ],
   "source": [
    "ban_fruits.remove(\"Mango\")\n",
    "\n",
    "print(ban_fruits)"
   ]
  },
  {
   "cell_type": "code",
   "execution_count": 57,
   "id": "c0b5eaaa",
   "metadata": {},
   "outputs": [
    {
     "name": "stdout",
     "output_type": "stream",
     "text": [
      "1\n"
     ]
    }
   ],
   "source": [
    "# count Mango item\n",
    "print(ban_fruits.count(\"Mango\"))"
   ]
  },
  {
   "cell_type": "markdown",
   "id": "2886c200",
   "metadata": {},
   "source": [
    "#### vi. list.pop()\n",
    "\n",
    "- Remove and return the last item in the list."
   ]
  },
  {
   "cell_type": "code",
   "execution_count": 58,
   "id": "b800b3f3",
   "metadata": {},
   "outputs": [
    {
     "name": "stdout",
     "output_type": "stream",
     "text": [
      "['Apple', 'Litchi', 'Banana', 'Mango', 'Cheery']\n",
      "Lemon\n"
     ]
    }
   ],
   "source": [
    "last_item = ban_fruits.pop()\n",
    "\n",
    "print(ban_fruits)\n",
    "print(last_item)"
   ]
  },
  {
   "cell_type": "markdown",
   "id": "f8ff1cf9",
   "metadata": {},
   "source": [
    "#### vii. list.copy()\n",
    "\n",
    "- copy all list items"
   ]
  },
  {
   "cell_type": "code",
   "execution_count": 59,
   "id": "942260ff",
   "metadata": {},
   "outputs": [
    {
     "name": "stdout",
     "output_type": "stream",
     "text": [
      "['Apple', 'Litchi', 'Banana', 'Mango', 'Cheery']\n"
     ]
    }
   ],
   "source": [
    "copy_fruits = ban_fruits.copy()\n",
    "\n",
    "print(copy_fruits)"
   ]
  },
  {
   "cell_type": "markdown",
   "id": "8b2653ab",
   "metadata": {},
   "source": [
    "#### viii. list.sort()\n",
    "\n",
    "- sort all items in acending order"
   ]
  },
  {
   "cell_type": "code",
   "execution_count": 60,
   "id": "f56bb96e",
   "metadata": {},
   "outputs": [
    {
     "name": "stdout",
     "output_type": "stream",
     "text": [
      "['Apple', 'Banana', 'Cheery', 'Litchi', 'Mango']\n"
     ]
    }
   ],
   "source": [
    "ban_fruits.sort()\n",
    "\n",
    "print(ban_fruits)"
   ]
  },
  {
   "cell_type": "markdown",
   "id": "005ad76d",
   "metadata": {},
   "source": [
    "#### iX. list.reverse()\n",
    "\n",
    "- sort all items in decending order"
   ]
  },
  {
   "cell_type": "code",
   "execution_count": 61,
   "id": "20097bb6",
   "metadata": {},
   "outputs": [
    {
     "name": "stdout",
     "output_type": "stream",
     "text": [
      "['Mango', 'Litchi', 'Cheery', 'Banana', 'Apple']\n"
     ]
    }
   ],
   "source": [
    "ban_fruits.reverse()\n",
    "\n",
    "print(ban_fruits)"
   ]
  },
  {
   "cell_type": "markdown",
   "id": "f948c575",
   "metadata": {},
   "source": [
    "#### X. del list[idx]\n",
    "\n",
    "- deleted item according to the index."
   ]
  },
  {
   "cell_type": "code",
   "execution_count": null,
   "id": "3266d76a",
   "metadata": {},
   "outputs": [
    {
     "name": "stdout",
     "output_type": "stream",
     "text": [
      "['Mango', 'Litchi', 'Cheery', 'Apple']\n"
     ]
    }
   ],
   "source": [
    "\n",
    "del ban_fruits[3]  # Deleted the 3 idx item\n",
    "\n",
    "print(ban_fruits)"
   ]
  },
  {
   "cell_type": "markdown",
   "id": "4c8d69c8",
   "metadata": {},
   "source": [
    "#### Xi. list.clear()\n",
    "\n",
    "- clear all item in the list."
   ]
  },
  {
   "cell_type": "code",
   "execution_count": 69,
   "id": "fe32e248",
   "metadata": {},
   "outputs": [
    {
     "name": "stdout",
     "output_type": "stream",
     "text": [
      "[]\n"
     ]
    }
   ],
   "source": [
    "ban_fruits.clear()\n",
    "\n",
    "print(ban_fruits)"
   ]
  },
  {
   "cell_type": "markdown",
   "id": "f0ce9b3b",
   "metadata": {},
   "source": [
    "### 6. Iteration over lists."
   ]
  },
  {
   "cell_type": "code",
   "execution_count": null,
   "id": "0c5631e6",
   "metadata": {},
   "outputs": [
    {
     "name": "stdout",
     "output_type": "stream",
     "text": [
      "10\n",
      "20\n",
      "30\n",
      "40\n",
      "50\n",
      "60\n",
      "70\n",
      "80\n",
      "90\n",
      "100\n"
     ]
    }
   ],
   "source": [
    "nums = [10, 20, 30, 40, 50, 60, 70, 80, 90, 100]\n",
    "\n",
    "for item in nums:\n",
    "    print(item)\n"
   ]
  },
  {
   "cell_type": "markdown",
   "id": "dbe591b3",
   "metadata": {},
   "source": [
    "#### list iteration using enumerate()\n",
    "\n",
    "- enumerate() function return vale and it's corresponding idx at a time.\n",
    "\n",
    "- enumerate(iterable, start_idx = 0)"
   ]
  },
  {
   "cell_type": "code",
   "execution_count": null,
   "id": "e11709b7",
   "metadata": {},
   "outputs": [
    {
     "name": "stdout",
     "output_type": "stream",
     "text": [
      "0 10\n",
      "1 20\n",
      "2 30\n",
      "3 40\n",
      "4 50\n",
      "5 60\n",
      "6 70\n",
      "7 80\n",
      "8 90\n",
      "9 100\n"
     ]
    }
   ],
   "source": [
    "# Example_01: enumerate()\n",
    "\n",
    "nums = [10, 20, 30, 40, 50, 60, 70, 80, 90, 100]\n",
    "\n",
    "for idx, i in enumerate(nums, start=0):  # start = 0 (By default value and it's optional)\n",
    "    print(idx, i)"
   ]
  },
  {
   "cell_type": "code",
   "execution_count": 74,
   "id": "77aa8841",
   "metadata": {},
   "outputs": [
    {
     "name": "stdout",
     "output_type": "stream",
     "text": [
      "index : 1 and Name: Kz\n",
      "index : 2 and Name: Sakib\n",
      "index : 3 and Name: Sunkanto\n",
      "index : 4 and Name: Rafit\n",
      "index : 5 and Name: Shanto\n",
      "index : 6 and Name: Sabbir\n"
     ]
    }
   ],
   "source": [
    "# Example_02: enumerate()\n",
    "\n",
    "student = [\"Kz\", \"Sakib\", \"Sunkanto\", \"Rafit\", \"Shanto\", \"Sabbir\"]\n",
    "\n",
    "for idx, item in enumerate(student, start=1):\n",
    "    print(f\"index : {idx} and Name: {item}\")"
   ]
  },
  {
   "cell_type": "markdown",
   "id": "d7076b48",
   "metadata": {},
   "source": [
    "### 7. List Comprehensions."
   ]
  },
  {
   "cell_type": "markdown",
   "id": "762de3f5",
   "metadata": {},
   "source": [
    "- - provide a more readable and concise way to create collections compared to traditional loops."
   ]
  },
  {
   "cell_type": "code",
   "execution_count": null,
   "id": "d76c6c4c",
   "metadata": {},
   "outputs": [],
   "source": [
    "# Synatax of List comprehension\n",
    "\n",
    "'''\n",
    "# 1. Basic Syntax\n",
    "[ expression  for item in iterable ]\n",
    "\n",
    "# 2. With Conditional logic \n",
    "\n",
    "[ expression for item iterable  if condition ]\n",
    "\n",
    "\n",
    "here, expression = output\n",
    "\n",
    "'''"
   ]
  },
  {
   "cell_type": "code",
   "execution_count": null,
   "id": "56cf83db",
   "metadata": {},
   "outputs": [
    {
     "name": "stdout",
     "output_type": "stream",
     "text": [
      "[1, 2, 3, 4, 5, 6, 7, 8, 9, 10]\n"
     ]
    }
   ],
   "source": [
    "# Example_01: lList comprehension with Basic Syntax\n",
    "\n",
    "# first traditional way to print 1 to 10\n",
    "\n",
    "lst = []\n",
    "\n",
    "for i in range(1,11):\n",
    "    lst.append(i)\n",
    "\n",
    "print(lst)"
   ]
  },
  {
   "cell_type": "code",
   "execution_count": 78,
   "id": "d9959006",
   "metadata": {},
   "outputs": [
    {
     "name": "stdout",
     "output_type": "stream",
     "text": [
      "[1, 2, 3, 4, 5, 6, 7, 8, 9, 10]\n"
     ]
    }
   ],
   "source": [
    "## Apply List comprehension \n",
    "\n",
    "lst = [ i for i in range(1,11)]\n",
    "\n",
    "print(lst)"
   ]
  },
  {
   "cell_type": "code",
   "execution_count": 88,
   "id": "ed0a21fd",
   "metadata": {},
   "outputs": [
    {
     "name": "stdout",
     "output_type": "stream",
     "text": [
      "[1, 4, 9, 16, 25, 36, 49, 64, 81, 100]\n"
     ]
    }
   ],
   "source": [
    "# Example_02: List comprehension with Basic Syntax\n",
    "\n",
    "# Traditional way to print square 1-10 numbers\n",
    "\n",
    "squre_num = []\n",
    "\n",
    "for item in range(1,11):\n",
    "    squre_num.append(item ** 2)\n",
    "\n",
    "print(squre_num)"
   ]
  },
  {
   "cell_type": "code",
   "execution_count": 89,
   "id": "faec4f91",
   "metadata": {},
   "outputs": [
    {
     "name": "stdout",
     "output_type": "stream",
     "text": [
      "[1, 4, 9, 16, 25, 36, 49, 64, 81, 100]\n"
     ]
    }
   ],
   "source": [
    "# Apply list comprehension\n",
    "\n",
    "num_squre = [item**2 for item in range(1,11)]\n",
    "\n",
    "print(num_squre)"
   ]
  },
  {
   "cell_type": "code",
   "execution_count": 90,
   "id": "4aac2e71",
   "metadata": {},
   "outputs": [
    {
     "name": "stdout",
     "output_type": "stream",
     "text": [
      "[2, 4, 6, 8, 10, 12, 14, 16, 18, 20]\n"
     ]
    }
   ],
   "source": [
    "# 2. list comprehension With Conditional logic\n",
    "\n",
    "# print only even number(1-20) using traditional way\n",
    "\n",
    "# Traditional way\n",
    "\n",
    "even_num = []\n",
    "\n",
    "for i in range(1,21):\n",
    "    if i%2 == 0:\n",
    "        even_num.append(i)\n",
    "\n",
    "print(even_num)"
   ]
  },
  {
   "cell_type": "code",
   "execution_count": 91,
   "id": "0d5c5104",
   "metadata": {},
   "outputs": [
    {
     "name": "stdout",
     "output_type": "stream",
     "text": [
      "[2, 4, 6, 8, 10, 12, 14, 16, 18, 20]\n"
     ]
    }
   ],
   "source": [
    "# Apply list comprehension \n",
    "\n",
    "num_even = [i for i in range(1, 21) if i%2 == 0]\n",
    "\n",
    "print(num_even)"
   ]
  },
  {
   "cell_type": "code",
   "execution_count": 94,
   "id": "99a9d4b7",
   "metadata": {},
   "outputs": [
    {
     "name": "stdout",
     "output_type": "stream",
     "text": [
      "[2, 4, 6, 8, 10]\n",
      "[1, 3, 5, 7, 9]\n"
     ]
    }
   ],
   "source": [
    "# apply list comprehension\n",
    "\n",
    "even_lst = []\n",
    "odd_lst = []\n",
    "\n",
    "[even_lst.append(i) if i%2==0 else odd_lst.append(i) for i in range(1,11) ]\n",
    "\n",
    "print(even_lst)\n",
    "print(odd_lst)"
   ]
  },
  {
   "cell_type": "markdown",
   "id": "ce106a4a",
   "metadata": {},
   "source": [
    "### 8. Practical Example."
   ]
  },
  {
   "cell_type": "code",
   "execution_count": 95,
   "id": "a80a2caf",
   "metadata": {},
   "outputs": [
    {
     "name": "stdout",
     "output_type": "stream",
     "text": [
      "[1, 2, 3, 4, 5, 6, 7, 8, 9, 10, 11, 12, 13, 14, 15, 16, 17, 18, 19, 20, 21, 22, 23, 24, 25, 26, 27, 28, 29, 30, 31, 32, 33, 34, 35, 36, 37, 38, 39, 40, 41, 42, 43, 44, 45, 46, 47, 48, 49, 50]\n",
      "Sum of first 50 numbers: 1275\n"
     ]
    }
   ],
   "source": [
    "# Eg_01: WAP to sum a list 50 numbers\n",
    "\n",
    "lst = []\n",
    "sum = 0\n",
    "\n",
    "for item in range(1,51):\n",
    "    lst.append(item)\n",
    "    sum += item\n",
    "\n",
    "print(lst)\n",
    "print(f\"Sum of first 50 numbers: {sum}\")"
   ]
  },
  {
   "cell_type": "code",
   "execution_count": null,
   "id": "a7b7bd56",
   "metadata": {},
   "outputs": [
    {
     "name": "stdout",
     "output_type": "stream",
     "text": [
      "['The Will Robot', 'Devdas', 'Bahubali 2', 'Parineeta']\n"
     ]
    }
   ],
   "source": [
    "# Eg_01: WAP to ask the user to enter names their 4 favorite movies and store them in list.\n",
    "\n",
    "fv_movies = []\n",
    "\n",
    "for movies in range(4):\n",
    "    \n",
    "    movies = input(\"Enter your 4 fv movie: \")\n",
    "    fv_movies.append(movies)\n",
    "\n",
    "print(fv_movies)"
   ]
  }
 ],
 "metadata": {
  "kernelspec": {
   "display_name": "venv",
   "language": "python",
   "name": "python3"
  },
  "language_info": {
   "codemirror_mode": {
    "name": "ipython",
    "version": 3
   },
   "file_extension": ".py",
   "mimetype": "text/x-python",
   "name": "python",
   "nbconvert_exporter": "python",
   "pygments_lexer": "ipython3",
   "version": "3.12.11"
  }
 },
 "nbformat": 4,
 "nbformat_minor": 5
}
