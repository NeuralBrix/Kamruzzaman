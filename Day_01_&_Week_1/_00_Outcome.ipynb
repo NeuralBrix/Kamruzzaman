{
 "cells": [
  {
   "cell_type": "markdown",
   "id": "f8a088a2",
   "metadata": {},
   "source": [
    "#### OUTCOMES:\n",
    "- Variables and Data Types. \n",
    "- Type Casting. \n",
    "- input() and print() functions. \n",
    "- String Formatting. \n",
    "- Comments. \n",
    "- Indentation Rules. \n",
    "- Practices.\n"
   ]
  }
 ],
 "metadata": {
  "kernelspec": {
   "display_name": "venv",
   "language": "python",
   "name": "python3"
  },
  "language_info": {
   "name": "python",
   "version": "3.12.11"
  }
 },
 "nbformat": 4,
 "nbformat_minor": 5
}
