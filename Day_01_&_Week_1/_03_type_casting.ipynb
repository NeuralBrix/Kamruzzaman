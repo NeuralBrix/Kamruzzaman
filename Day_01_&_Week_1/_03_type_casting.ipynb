{
 "cells": [
  {
   "cell_type": "markdown",
   "id": "4a49d45f",
   "metadata": {},
   "source": [
    "### Topic: Type casting or Type Conversion\n",
    "- To convert one data type to another"
   ]
  },
  {
   "cell_type": "markdown",
   "id": "d1701096",
   "metadata": {},
   "source": [
    "### OUTCOMES\n",
    "- Type Casting(Conversion).\n",
    "- input() and print() functions.\n",
    "- Practical Example"
   ]
  },
  {
   "cell_type": "code",
   "execution_count": 8,
   "id": "678709c3",
   "metadata": {},
   "outputs": [
    {
     "name": "stdout",
     "output_type": "stream",
     "text": [
      "2025 <class 'int'>\n"
     ]
    }
   ],
   "source": [
    "current_year = 2025\n",
    "print(current_year, type(current_year))"
   ]
  },
  {
   "cell_type": "code",
   "execution_count": 12,
   "id": "39e04ce6",
   "metadata": {},
   "outputs": [
    {
     "name": "stdout",
     "output_type": "stream",
     "text": [
      "2025.0 <class 'float'>\n"
     ]
    }
   ],
   "source": [
    "# to convert int to float\n",
    "# format : target_type(source variable)\n",
    "\n",
    "year = float(current_year)\n",
    "print(year, type(year))"
   ]
  },
  {
   "cell_type": "code",
   "execution_count": 11,
   "id": "c038a7f6",
   "metadata": {},
   "outputs": [
    {
     "name": "stdout",
     "output_type": "stream",
     "text": [
      "10 <class 'int'>\n",
      "10.0 <class 'float'>\n"
     ]
    }
   ],
   "source": [
    "num = 10\n",
    "print(num, type(num))\n",
    "\n",
    "float_num = float(num)\n",
    "print(float_num, type(float_num))"
   ]
  },
  {
   "cell_type": "code",
   "execution_count": 14,
   "id": "37215e33",
   "metadata": {},
   "outputs": [
    {
     "name": "stdout",
     "output_type": "stream",
     "text": [
      "99.99 <class 'float'>\n",
      "99 <class 'int'>\n"
     ]
    }
   ],
   "source": [
    "# similar to another\n",
    "# float to int\n",
    "\n",
    "price = 99.99\n",
    "print(price, type(price)) # <class 'float'>\n",
    "\n",
    "# convert to int\n",
    "int_price = int(price)\n",
    "print(int_price, type(int_price)) # <class 'int'>\n"
   ]
  },
  {
   "cell_type": "code",
   "execution_count": null,
   "id": "0c6b2ee7",
   "metadata": {},
   "outputs": [
    {
     "ename": "TypeError",
     "evalue": "can only concatenate str (not \"int\") to str",
     "output_type": "error",
     "traceback": [
      "\u001b[31m---------------------------------------------------------------------------\u001b[39m",
      "\u001b[31mTypeError\u001b[39m                                 Traceback (most recent call last)",
      "\u001b[36mCell\u001b[39m\u001b[36m \u001b[39m\u001b[32mIn[15]\u001b[39m\u001b[32m, line 4\u001b[39m\n\u001b[32m      1\u001b[39m var = \u001b[33m\"\u001b[39m\u001b[33mKz\u001b[39m\u001b[33m\"\u001b[39m\n\u001b[32m      2\u001b[39m num = \u001b[32m10\u001b[39m\n\u001b[32m----> \u001b[39m\u001b[32m4\u001b[39m add = \u001b[43mvar\u001b[49m\u001b[43m \u001b[49m\u001b[43m+\u001b[49m\u001b[43m \u001b[49m\u001b[43mnum\u001b[49m\n\u001b[32m      6\u001b[39m \u001b[38;5;28mprint\u001b[39m(add)\n",
      "\u001b[31mTypeError\u001b[39m: can only concatenate str (not \"int\") to str"
     ]
    }
   ],
   "source": [
    "var = \"Kz\"\n",
    "num = 10\n",
    "\n",
    "add = var + num\n",
    "\n",
    "print(add)  # error: can not concatenate str to int"
   ]
  },
  {
   "cell_type": "code",
   "execution_count": 19,
   "id": "c98fe5c4",
   "metadata": {},
   "outputs": [
    {
     "name": "stdout",
     "output_type": "stream",
     "text": [
      "Kz10\n"
     ]
    }
   ],
   "source": [
    "# To solve this above problem by using type casting\n",
    "\n",
    "var = \"Kz\"\n",
    "num = 10\n",
    "\n",
    "add = var + str(num) # num(int) is convert to str\n",
    "\n",
    "print(add)  # Kz10\n",
    "\n"
   ]
  },
  {
   "cell_type": "code",
   "execution_count": null,
   "id": "1636bf62",
   "metadata": {},
   "outputs": [
    {
     "ename": "ValueError",
     "evalue": "invalid literal for int() with base 10: 'Kz'",
     "output_type": "error",
     "traceback": [
      "\u001b[31m---------------------------------------------------------------------------\u001b[39m",
      "\u001b[31mValueError\u001b[39m                                Traceback (most recent call last)",
      "\u001b[36mCell\u001b[39m\u001b[36m \u001b[39m\u001b[32mIn[18]\u001b[39m\u001b[32m, line 2\u001b[39m\n\u001b[32m      1\u001b[39m \u001b[38;5;66;03m# another way\u001b[39;00m\n\u001b[32m----> \u001b[39m\u001b[32m2\u001b[39m add = \u001b[38;5;28;43mint\u001b[39;49m\u001b[43m(\u001b[49m\u001b[43mvar\u001b[49m\u001b[43m)\u001b[49m + num\n\u001b[32m      3\u001b[39m \u001b[38;5;28mprint\u001b[39m(add)\n",
      "\u001b[31mValueError\u001b[39m: invalid literal for int() with base 10: 'Kz'"
     ]
    }
   ],
   "source": [
    "\n",
    "# another example of type casting\n",
    "add = int(var) + num  # here, we can't convert str to int directly expect numbers\n",
    "print(add)\n"
   ]
  },
  {
   "cell_type": "markdown",
   "id": "7915a211",
   "metadata": {},
   "source": [
    "### input() and print() functions."
   ]
  },
  {
   "cell_type": "code",
   "execution_count": 20,
   "id": "67b21dd7",
   "metadata": {},
   "outputs": [
    {
     "name": "stdout",
     "output_type": "stream",
     "text": [
      "Your age is: 23\n",
      "Type of age:  <class 'str'>\n"
     ]
    }
   ],
   "source": [
    "# Python is dynamic typed language(mans determinate type at runtime)\n",
    "\n",
    "age = input(\"Enter you age: \")\n",
    "print(\"Your age is:\", age)\n",
    "print(\"Type of age: \", type(age))\n",
    "\n",
    "# Note : the input function returns a string by default"
   ]
  },
  {
   "cell_type": "code",
   "execution_count": 21,
   "id": "c80e84e5",
   "metadata": {},
   "outputs": [
    {
     "name": "stdout",
     "output_type": "stream",
     "text": [
      "Your age is: 23\n",
      "Type of age:  <class 'int'>\n"
     ]
    }
   ],
   "source": [
    "# To solve this problem by using type casting\n",
    "age = int(input(\"Enter age: \"))\n",
    "print(\"Your age is:\", age)\n",
    "print(\"Type of age: \", type(age))"
   ]
  },
  {
   "cell_type": "markdown",
   "id": "0108ab8a",
   "metadata": {},
   "source": [
    "### Practical Example\n",
    "- To Create a Body Mass Inde(BMI) Calculator\n",
    "- foumula:\n",
    "       BMI = (weight(in kg) / height (in meter) )"
   ]
  },
  {
   "cell_type": "code",
   "execution_count": 24,
   "id": "0203f7b1",
   "metadata": {},
   "outputs": [
    {
     "name": "stdout",
     "output_type": "stream",
     "text": [
      "Your name :  KzRaihan\n",
      "Height : 5.6 and Weight : 65.5\n",
      "Your BMI is: 2.09\n"
     ]
    }
   ],
   "source": [
    "name = input(\"Enter your name: \")\n",
    "\n",
    "weight = float(input(\"Enter your weight in kg: \"))\n",
    "height = float(input(\"Enter your height in meters: \"))\n",
    "\n",
    "BMI = (weight / (height ** 2))\n",
    "\n",
    "print(\"Your name : \", name)\n",
    "print(f\"Height : {height} and Weight : {weight}\")\n",
    "print(f\"Your BMI is: {BMI:.2f}\")\n",
    "\n"
   ]
  }
 ],
 "metadata": {
  "kernelspec": {
   "display_name": "venv",
   "language": "python",
   "name": "python3"
  },
  "language_info": {
   "codemirror_mode": {
    "name": "ipython",
    "version": 3
   },
   "file_extension": ".py",
   "mimetype": "text/x-python",
   "name": "python",
   "nbconvert_exporter": "python",
   "pygments_lexer": "ipython3",
   "version": "3.12.11"
  }
 },
 "nbformat": 4,
 "nbformat_minor": 5
}
